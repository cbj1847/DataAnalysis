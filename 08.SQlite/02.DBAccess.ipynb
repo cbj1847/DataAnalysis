{
 "cells": [
  {
   "attachments": {},
   "cell_type": "markdown",
   "metadata": {},
   "source": [
    "### DAO를 이용하여 데이터베이스 활용하기"
   ]
  },
  {
   "cell_type": "code",
   "execution_count": 1,
   "metadata": {},
   "outputs": [],
   "source": [
    "import member_dao as mdao"
   ]
  },
  {
   "cell_type": "code",
   "execution_count": 2,
   "metadata": {},
   "outputs": [
    {
     "data": {
      "text/plain": [
       "[(1, '제임스', 1),\n",
       " (2, '마리아', 2),\n",
       " (3, '홍길동', 1),\n",
       " (4, '차정숙', 2),\n",
       " (6, '차정숙', 2),\n",
       " (7, '테스트2', 2),\n",
       " (8, '테스트', 1)]"
      ]
     },
     "execution_count": 2,
     "metadata": {},
     "output_type": "execute_result"
    }
   ],
   "source": [
    "mdao.get_members()"
   ]
  },
  {
   "cell_type": "code",
   "execution_count": 7,
   "metadata": {},
   "outputs": [],
   "source": [
    "mdao.delete_member(8)"
   ]
  },
  {
   "cell_type": "code",
   "execution_count": 8,
   "metadata": {},
   "outputs": [
    {
     "data": {
      "text/plain": [
       "[(1, '제임스', 1), (2, '마리아', 2), (3, '홍길동', 1), (4, '차정숙', 2)]"
      ]
     },
     "execution_count": 8,
     "metadata": {},
     "output_type": "execute_result"
    }
   ],
   "source": [
    "mdao.get_members()"
   ]
  },
  {
   "cell_type": "code",
   "execution_count": 9,
   "metadata": {},
   "outputs": [
    {
     "name": "stdout",
     "output_type": "stream",
     "text": [
      "mid: 1, mname: 제임스, gender: 1\n",
      "mid: 2, mname: 마리아, gender: 2\n",
      "mid: 3, mname: 홍길동, gender: 1\n",
      "mid: 4, mname: 차정숙, gender: 2\n"
     ]
    }
   ],
   "source": [
    "rows = mdao.get_members()\n",
    "for row in rows:\n",
    "    print(f'mid: {row[0]}, mname: {row[1]}, gender: {row[2]}')"
   ]
  },
  {
   "cell_type": "code",
   "execution_count": 10,
   "metadata": {},
   "outputs": [
    {
     "data": {
      "text/plain": [
       "[(1, '제임스', 1), (2, '마리아', 2), (3, '홍길동', 1), (4, '차정숙', 2), (9, '최범준', '남자')]"
      ]
     },
     "execution_count": 10,
     "metadata": {},
     "output_type": "execute_result"
    }
   ],
   "source": [
    "# name = request.form['name']\n",
    "# gender = request.form['gender']\n",
    "name, gender = '최범준', '남자'\n",
    "params = (name, gender)\n",
    "mdao.insert_member(params)\n",
    "mdao.get_members()"
   ]
  },
  {
   "cell_type": "code",
   "execution_count": 11,
   "metadata": {},
   "outputs": [
    {
     "data": {
      "text/plain": [
       "[(1, '제임스', 1), (2, '마리아', 2), (3, '홍길동', 1), (4, '차정숙', 2), (9, '최범준', 1)]"
      ]
     },
     "execution_count": 11,
     "metadata": {},
     "output_type": "execute_result"
    }
   ],
   "source": [
    "mdao.update_member(('최범준', 1, 9))\n",
    "mdao.get_members()"
   ]
  },
  {
   "cell_type": "code",
   "execution_count": 12,
   "metadata": {},
   "outputs": [],
   "source": [
    "mdao.delete_member(9)"
   ]
  },
  {
   "cell_type": "code",
   "execution_count": 13,
   "metadata": {},
   "outputs": [
    {
     "name": "stdout",
     "output_type": "stream",
     "text": [
      "[(1, '제임스', 1), (2, '마리아', 2), (3, '홍길동', 1), (4, '차정숙', 2)]\n"
     ]
    }
   ],
   "source": [
    "print(mdao.get_members())"
   ]
  },
  {
   "cell_type": "code",
   "execution_count": null,
   "metadata": {},
   "outputs": [],
   "source": []
  }
 ],
 "metadata": {
  "kernelspec": {
   "display_name": "base",
   "language": "python",
   "name": "python3"
  },
  "language_info": {
   "codemirror_mode": {
    "name": "ipython",
    "version": 3
   },
   "file_extension": ".py",
   "mimetype": "text/x-python",
   "name": "python",
   "nbconvert_exporter": "python",
   "pygments_lexer": "ipython3",
   "version": "3.10.10"
  },
  "orig_nbformat": 4
 },
 "nbformat": 4,
 "nbformat_minor": 2
}
