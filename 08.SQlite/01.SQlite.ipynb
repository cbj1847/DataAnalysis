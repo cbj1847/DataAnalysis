{
 "cells": [
  {
   "attachments": {},
   "cell_type": "markdown",
   "metadata": {},
   "source": [
    "### SQLite3 활용"
   ]
  },
  {
   "cell_type": "code",
   "execution_count": 2,
   "metadata": {},
   "outputs": [],
   "source": [
    "import sqlite3 as sq"
   ]
  },
  {
   "attachments": {},
   "cell_type": "markdown",
   "metadata": {},
   "source": [
    "- DB에 접속해서 데이터 읽기"
   ]
  },
  {
   "cell_type": "code",
   "execution_count": 13,
   "metadata": {},
   "outputs": [],
   "source": [
    "# member table에 있는 데이터 모두 읽기\n",
    "conn = sq.connect('testdb.db')\n",
    "cur = conn.cursor()\n",
    "\n",
    "sql = 'select * from member;'\n",
    "cur.execute(sql)\n",
    "rows = cur.fetchall()\n",
    "\n",
    "cur.close()\n",
    "conn.close()"
   ]
  },
  {
   "cell_type": "code",
   "execution_count": 14,
   "metadata": {},
   "outputs": [
    {
     "name": "stdout",
     "output_type": "stream",
     "text": [
      "(1, '제임스', 1) <class 'tuple'>\n",
      "(2, '마리아', 2) <class 'tuple'>\n",
      "(3, '홍길동', 1) <class 'tuple'>\n"
     ]
    }
   ],
   "source": [
    "for row in rows:\n",
    "    print(row, type(row))"
   ]
  },
  {
   "cell_type": "code",
   "execution_count": 12,
   "metadata": {},
   "outputs": [
    {
     "name": "stdout",
     "output_type": "stream",
     "text": [
      "(1, '제임스', 1) <class 'tuple'>\n",
      "(3, '홍길동', 1) <class 'tuple'>\n"
     ]
    }
   ],
   "source": [
    "# member table에 남자 데이터 읽기\n",
    "conn = sq.connect('testdb.db')\n",
    "cur = conn.cursor()\n",
    "\n",
    "sql = 'select * from member where gender=1;'\n",
    "cur.execute(sql)\n",
    "rows = cur.fetchall()\n",
    "\n",
    "cur.close()\n",
    "conn.close()\n",
    "\n",
    "for row in rows:\n",
    "    print(row, type(row))"
   ]
  },
  {
   "cell_type": "code",
   "execution_count": 15,
   "metadata": {},
   "outputs": [],
   "source": [
    "# 일반적인 케이스\n",
    "def get_members_by_gender(gender):\n",
    "    conn = sq.connect('testdb.db')\n",
    "    cur = conn.cursor()\n",
    "\n",
    "    sql = 'select * from member where gender=?;'\n",
    "    cur.execute(sql, (gender, ))        # 파라미터는 반드시 튜플로 적용, (gender, ) 부분이 파라미터\n",
    "    rows = cur.fetchall()\n",
    "\n",
    "    cur.close()\n",
    "    conn.close()\n",
    "    return rows"
   ]
  },
  {
   "cell_type": "code",
   "execution_count": 16,
   "metadata": {},
   "outputs": [
    {
     "name": "stdout",
     "output_type": "stream",
     "text": [
      "(1, '제임스', 1)\n",
      "(3, '홍길동', 1)\n"
     ]
    }
   ],
   "source": [
    "results = get_members_by_gender(1)\n",
    "for result in results:\n",
    "    print(result)"
   ]
  },
  {
   "cell_type": "code",
   "execution_count": 17,
   "metadata": {},
   "outputs": [],
   "source": [
    "# mid에 해당하는 데이터(1개) 가져오기\n",
    "def get_member_by_mid(mid):\n",
    "    conn = sq.connect('testdb.db')\n",
    "    cur = conn.cursor()\n",
    "\n",
    "    sql = 'select * from member where mid=?;'\n",
    "    cur.execute(sql, (mid, ))        # 파라미터는 반드시 튜플로 적용, (gender, ) 부분이 파라미터\n",
    "    row = cur.fetchone()       # 단일 튜플 선택 시 fetchone 사용\n",
    "\n",
    "    cur.close()\n",
    "    conn.close()\n",
    "    return row"
   ]
  },
  {
   "cell_type": "code",
   "execution_count": 19,
   "metadata": {},
   "outputs": [
    {
     "name": "stdout",
     "output_type": "stream",
     "text": [
      "2 마리아 2\n"
     ]
    }
   ],
   "source": [
    "result = get_member_by_mid(2)\n",
    "print(result[0], result[1], result[2])"
   ]
  },
  {
   "attachments": {},
   "cell_type": "markdown",
   "metadata": {},
   "source": [
    "- 데이터 추가하기"
   ]
  },
  {
   "cell_type": "code",
   "execution_count": 20,
   "metadata": {},
   "outputs": [],
   "source": [
    "def insert_member(params):\n",
    "    conn = sq.connect('testdb.db')\n",
    "    cur = conn.cursor()\n",
    "\n",
    "    sql = 'insert into member(mname, gender) values (?, ?)'\n",
    "    cur.execute(sql, params)\n",
    "    conn.commit()       # DB 내용을 변경하는 경우(CUD)에는 승인(저장) 해줘야 DB에 적용됨\n",
    "\n",
    "    cur.close()\n",
    "    conn.close()"
   ]
  },
  {
   "cell_type": "code",
   "execution_count": 23,
   "metadata": {},
   "outputs": [
    {
     "name": "stdout",
     "output_type": "stream",
     "text": [
      "(2, '마리아', 2)\n",
      "(4, '차정숙', 2)\n",
      "(5, '차정숙', 2)\n",
      "(6, '차정숙', 2)\n"
     ]
    }
   ],
   "source": [
    "params = ('차정숙', 2 )\n",
    "insert_member(params)\n",
    "results = get_members_by_gender(2)\n",
    "for result in results:\n",
    "    print(result)"
   ]
  },
  {
   "attachments": {},
   "cell_type": "markdown",
   "metadata": {},
   "source": [
    "- 데이터수정"
   ]
  },
  {
   "cell_type": "code",
   "execution_count": 32,
   "metadata": {},
   "outputs": [],
   "source": [
    "def update_member(params):\n",
    "    conn = sq.connect('testdb.db')\n",
    "    cur = conn.cursor()\n",
    "\n",
    "    sql = 'update member set mname=?, gender=? where mid=?;'\n",
    "    cur.execute(sql, params)\n",
    "    conn.commit()       # DB 내용을 변경하는 경우(CUD)에는 승인(저장) 해줘야 DB에 적용됨\n",
    "\n",
    "    cur.close()\n",
    "    conn.close()"
   ]
  },
  {
   "cell_type": "code",
   "execution_count": 29,
   "metadata": {},
   "outputs": [
    {
     "data": {
      "text/plain": [
       "(3, '홍길동', 1)"
      ]
     },
     "execution_count": 29,
     "metadata": {},
     "output_type": "execute_result"
    }
   ],
   "source": [
    "params = ('테스트', 1)\n",
    "insert_member(params)"
   ]
  },
  {
   "cell_type": "code",
   "execution_count": 30,
   "metadata": {},
   "outputs": [
    {
     "name": "stdout",
     "output_type": "stream",
     "text": [
      "(1, '제임스', 1)\n",
      "(3, '홍길동', 1)\n",
      "(7, '테스트', 1)\n",
      "(8, '테스트', 1)\n"
     ]
    }
   ],
   "source": [
    "results = get_members_by_gender(1)\n",
    "for result in results:\n",
    "    print(result)"
   ]
  },
  {
   "cell_type": "code",
   "execution_count": 33,
   "metadata": {},
   "outputs": [],
   "source": [
    "params = ('테스트2', 2, 7)\n",
    "update_member(params)       # 파라미터 순서에 주의할 것"
   ]
  },
  {
   "cell_type": "code",
   "execution_count": 34,
   "metadata": {},
   "outputs": [
    {
     "name": "stdout",
     "output_type": "stream",
     "text": [
      "(2, '마리아', 2)\n",
      "(4, '차정숙', 2)\n",
      "(5, '차정숙', 2)\n",
      "(6, '차정숙', 2)\n",
      "(7, '테스트2', 2)\n"
     ]
    }
   ],
   "source": [
    "rows= get_members_by_gender(2)\n",
    "for row in rows:\n",
    "    print(row)"
   ]
  },
  {
   "attachments": {},
   "cell_type": "markdown",
   "metadata": {},
   "source": [
    "- 데이터 삭제"
   ]
  },
  {
   "cell_type": "code",
   "execution_count": 37,
   "metadata": {},
   "outputs": [],
   "source": [
    "def delete_member(mid):\n",
    "    conn = sq.connect('testdb.db')\n",
    "    cur = conn.cursor()\n",
    "\n",
    "    sql = 'delete from member where mid=?'\n",
    "    cur.execute(sql, (mid,))\n",
    "    conn.commit()       # DB 내용을 변경하는 경우(CUD)에는 승인(저장) 해줘야 DB에 적용됨\n",
    "\n",
    "    cur.close()\n",
    "    conn.close()"
   ]
  },
  {
   "cell_type": "code",
   "execution_count": 38,
   "metadata": {},
   "outputs": [],
   "source": [
    "delete_member(5)"
   ]
  },
  {
   "cell_type": "code",
   "execution_count": 39,
   "metadata": {},
   "outputs": [
    {
     "name": "stdout",
     "output_type": "stream",
     "text": [
      "(2, '마리아', 2)\n",
      "(4, '차정숙', 2)\n",
      "(6, '차정숙', 2)\n",
      "(7, '테스트2', 2)\n"
     ]
    }
   ],
   "source": [
    "rows= get_members_by_gender(2)\n",
    "for row in rows:\n",
    "    print(row)"
   ]
  },
  {
   "cell_type": "code",
   "execution_count": null,
   "metadata": {},
   "outputs": [],
   "source": []
  }
 ],
 "metadata": {
  "kernelspec": {
   "display_name": "base",
   "language": "python",
   "name": "python3"
  },
  "language_info": {
   "codemirror_mode": {
    "name": "ipython",
    "version": 3
   },
   "file_extension": ".py",
   "mimetype": "text/x-python",
   "name": "python",
   "nbconvert_exporter": "python",
   "pygments_lexer": "ipython3",
   "version": "3.10.10"
  },
  "orig_nbformat": 4
 },
 "nbformat": 4,
 "nbformat_minor": 2
}
