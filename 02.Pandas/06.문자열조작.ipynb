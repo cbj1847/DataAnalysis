{
 "cells": [
  {
   "attachments": {},
   "cell_type": "markdown",
   "metadata": {},
   "source": [
    "### 문자열 조작"
   ]
  },
  {
   "cell_type": "code",
   "execution_count": 1,
   "metadata": {},
   "outputs": [],
   "source": [
    "import numpy as np\n",
    "import pandas as pd"
   ]
  },
  {
   "attachments": {},
   "cell_type": "markdown",
   "metadata": {},
   "source": [
    "- 데이터 탐색"
   ]
  },
  {
   "cell_type": "code",
   "execution_count": 2,
   "metadata": {},
   "outputs": [
    {
     "data": {
      "text/html": [
       "<div>\n",
       "<style scoped>\n",
       "    .dataframe tbody tr th:only-of-type {\n",
       "        vertical-align: middle;\n",
       "    }\n",
       "\n",
       "    .dataframe tbody tr th {\n",
       "        vertical-align: top;\n",
       "    }\n",
       "\n",
       "    .dataframe thead th {\n",
       "        text-align: right;\n",
       "    }\n",
       "</style>\n",
       "<table border=\"1\" class=\"dataframe\">\n",
       "  <thead>\n",
       "    <tr style=\"text-align: right;\">\n",
       "      <th></th>\n",
       "      <th>법정동코드</th>\n",
       "      <th>법정동명</th>\n",
       "      <th>폐지여부</th>\n",
       "    </tr>\n",
       "  </thead>\n",
       "  <tbody>\n",
       "    <tr>\n",
       "      <th>0</th>\n",
       "      <td>1100000000</td>\n",
       "      <td>서울특별시</td>\n",
       "      <td>존재</td>\n",
       "    </tr>\n",
       "    <tr>\n",
       "      <th>1</th>\n",
       "      <td>1111000000</td>\n",
       "      <td>서울특별시 종로구</td>\n",
       "      <td>존재</td>\n",
       "    </tr>\n",
       "    <tr>\n",
       "      <th>2</th>\n",
       "      <td>1111010100</td>\n",
       "      <td>서울특별시 종로구 청운동</td>\n",
       "      <td>존재</td>\n",
       "    </tr>\n",
       "    <tr>\n",
       "      <th>3</th>\n",
       "      <td>1111010200</td>\n",
       "      <td>서울특별시 종로구 신교동</td>\n",
       "      <td>존재</td>\n",
       "    </tr>\n",
       "    <tr>\n",
       "      <th>4</th>\n",
       "      <td>1111010300</td>\n",
       "      <td>서울특별시 종로구 궁정동</td>\n",
       "      <td>존재</td>\n",
       "    </tr>\n",
       "  </tbody>\n",
       "</table>\n",
       "</div>"
      ],
      "text/plain": [
       "        법정동코드           법정동명 폐지여부\n",
       "0  1100000000          서울특별시   존재\n",
       "1  1111000000      서울특별시 종로구   존재\n",
       "2  1111010100  서울특별시 종로구 청운동   존재\n",
       "3  1111010200  서울특별시 종로구 신교동   존재\n",
       "4  1111010300  서울특별시 종로구 궁정동   존재"
      ]
     },
     "execution_count": 2,
     "metadata": {},
     "output_type": "execute_result"
    }
   ],
   "source": [
    "df = pd.read_csv('data/법정동코드 전체자료.txt', sep='\\t', encoding='euc-kr')\n",
    "df.head()"
   ]
  },
  {
   "cell_type": "code",
   "execution_count": 3,
   "metadata": {},
   "outputs": [
    {
     "data": {
      "text/plain": [
       "((46328, 3), 138984)"
      ]
     },
     "execution_count": 3,
     "metadata": {},
     "output_type": "execute_result"
    }
   ],
   "source": [
    "df.shape, df.size"
   ]
  },
  {
   "cell_type": "code",
   "execution_count": 4,
   "metadata": {},
   "outputs": [
    {
     "name": "stdout",
     "output_type": "stream",
     "text": [
      "<class 'pandas.core.frame.DataFrame'>\n",
      "RangeIndex: 46328 entries, 0 to 46327\n",
      "Data columns (total 3 columns):\n",
      " #   Column  Non-Null Count  Dtype \n",
      "---  ------  --------------  ----- \n",
      " 0   법정동코드   46328 non-null  int64 \n",
      " 1   법정동명    46328 non-null  object\n",
      " 2   폐지여부    46328 non-null  object\n",
      "dtypes: int64(1), object(2)\n",
      "memory usage: 1.1+ MB\n"
     ]
    }
   ],
   "source": [
    "df.info()"
   ]
  },
  {
   "cell_type": "code",
   "execution_count": 5,
   "metadata": {},
   "outputs": [
    {
     "data": {
      "text/plain": [
       "폐지여부\n",
       "폐지    25777\n",
       "존재    20551\n",
       "Name: count, dtype: int64"
      ]
     },
     "execution_count": 5,
     "metadata": {},
     "output_type": "execute_result"
    }
   ],
   "source": [
    "df.폐지여부.value_counts()"
   ]
  },
  {
   "cell_type": "code",
   "execution_count": 6,
   "metadata": {},
   "outputs": [
    {
     "data": {
      "text/plain": [
       "(20551, 3)"
      ]
     },
     "execution_count": 6,
     "metadata": {},
     "output_type": "execute_result"
    }
   ],
   "source": [
    "# 폐지된 주소 삭제(filtering)\n",
    "df = df[df.폐지여부 == '존재']\n",
    "df.shape"
   ]
  },
  {
   "attachments": {},
   "cell_type": "markdown",
   "metadata": {},
   "source": [
    "- 인덱싱"
   ]
  },
  {
   "cell_type": "code",
   "execution_count": 7,
   "metadata": {},
   "outputs": [
    {
     "data": {
      "text/plain": [
       "0    서울특별시\n",
       "1    서울특별시\n",
       "2    서울특별시\n",
       "3    서울특별시\n",
       "4    서울특별시\n",
       "Name: 법정동명, dtype: object"
      ]
     },
     "execution_count": 7,
     "metadata": {},
     "output_type": "execute_result"
    }
   ],
   "source": [
    "df.법정동명.str[:5].head()"
   ]
  },
  {
   "cell_type": "code",
   "execution_count": 8,
   "metadata": {},
   "outputs": [
    {
     "data": {
      "text/html": [
       "<div>\n",
       "<style scoped>\n",
       "    .dataframe tbody tr th:only-of-type {\n",
       "        vertical-align: middle;\n",
       "    }\n",
       "\n",
       "    .dataframe tbody tr th {\n",
       "        vertical-align: top;\n",
       "    }\n",
       "\n",
       "    .dataframe thead th {\n",
       "        text-align: right;\n",
       "    }\n",
       "</style>\n",
       "<table border=\"1\" class=\"dataframe\">\n",
       "  <thead>\n",
       "    <tr style=\"text-align: right;\">\n",
       "      <th></th>\n",
       "      <th>법정동코드</th>\n",
       "      <th>법정동명</th>\n",
       "      <th>폐지여부</th>\n",
       "    </tr>\n",
       "  </thead>\n",
       "  <tbody>\n",
       "    <tr>\n",
       "      <th>0</th>\n",
       "      <td>1100000000</td>\n",
       "      <td>서울특별시</td>\n",
       "      <td>존재</td>\n",
       "    </tr>\n",
       "    <tr>\n",
       "      <th>1</th>\n",
       "      <td>1111000000</td>\n",
       "      <td>서울특별시 종로구</td>\n",
       "      <td>존재</td>\n",
       "    </tr>\n",
       "    <tr>\n",
       "      <th>2</th>\n",
       "      <td>1111010100</td>\n",
       "      <td>서울특별시 종로구 청운동</td>\n",
       "      <td>존재</td>\n",
       "    </tr>\n",
       "    <tr>\n",
       "      <th>3</th>\n",
       "      <td>1111010200</td>\n",
       "      <td>서울특별시 종로구 신교동</td>\n",
       "      <td>존재</td>\n",
       "    </tr>\n",
       "    <tr>\n",
       "      <th>4</th>\n",
       "      <td>1111010300</td>\n",
       "      <td>서울특별시 종로구 궁정동</td>\n",
       "      <td>존재</td>\n",
       "    </tr>\n",
       "  </tbody>\n",
       "</table>\n",
       "</div>"
      ],
      "text/plain": [
       "        법정동코드           법정동명 폐지여부\n",
       "0  1100000000          서울특별시   존재\n",
       "1  1111000000      서울특별시 종로구   존재\n",
       "2  1111010100  서울특별시 종로구 청운동   존재\n",
       "3  1111010200  서울특별시 종로구 신교동   존재\n",
       "4  1111010300  서울특별시 종로구 궁정동   존재"
      ]
     },
     "execution_count": 8,
     "metadata": {},
     "output_type": "execute_result"
    }
   ],
   "source": [
    "df.head()"
   ]
  },
  {
   "attachments": {},
   "cell_type": "markdown",
   "metadata": {},
   "source": [
    "- 찾기 : find, contains"
   ]
  },
  {
   "cell_type": "code",
   "execution_count": 9,
   "metadata": {},
   "outputs": [
    {
     "data": {
      "text/plain": [
       "0   -1\n",
       "1    6\n",
       "2    6\n",
       "3    6\n",
       "4    6\n",
       "Name: 법정동명, dtype: int64"
      ]
     },
     "execution_count": 9,
     "metadata": {},
     "output_type": "execute_result"
    }
   ],
   "source": [
    "df.법정동명.str.find('종로구').head()"
   ]
  },
  {
   "cell_type": "code",
   "execution_count": 10,
   "metadata": {},
   "outputs": [
    {
     "data": {
      "text/plain": [
       "0        False\n",
       "1         True\n",
       "2         True\n",
       "3         True\n",
       "4         True\n",
       "         ...  \n",
       "46323    False\n",
       "46324    False\n",
       "46325    False\n",
       "46326    False\n",
       "46327    False\n",
       "Name: 법정동명, Length: 20551, dtype: bool"
      ]
     },
     "execution_count": 10,
     "metadata": {},
     "output_type": "execute_result"
    }
   ],
   "source": [
    "df.법정동명.str.contains('종로구')"
   ]
  },
  {
   "cell_type": "code",
   "execution_count": 11,
   "metadata": {},
   "outputs": [
    {
     "data": {
      "text/plain": [
       "(            법정동코드              법정동명 폐지여부\n",
       " 10078  4183041027    경기도 양평군 개군면 부리   존재\n",
       " 10079  4183041028   경기도 양평군 개군면 자연리   존재\n",
       " 10080  4183041029    경기도 양평군 개군면 내리   존재\n",
       " 10081  4183041030    경기도 양평군 개군면 향리   존재\n",
       " 10082  4183041031   경기도 양평군 개군면 주읍리   존재\n",
       " 10083  4183041032   경기도 양평군 개군면 계전리   존재\n",
       " 10084  4183041033  경기도 양평군 개군면 상자포리   존재,\n",
       " (2211, 3))"
      ]
     },
     "execution_count": 11,
     "metadata": {},
     "output_type": "execute_result"
    }
   ],
   "source": [
    "# 경기도만 추출\n",
    "df1 = df[df.법정동명.str.contains('경기도')]\n",
    "df1.tail(7), df1.shape"
   ]
  },
  {
   "cell_type": "code",
   "execution_count": 12,
   "metadata": {},
   "outputs": [
    {
     "data": {
      "text/plain": [
       "(           법정동코드             법정동명 폐지여부\n",
       " 4819  4111000000          경기도 수원시   존재\n",
       " 4884  4111100000      경기도 수원시 장안구   존재\n",
       " 4913  4111112900  경기도 수원시 장안구 파장동   존재\n",
       " 4914  4111113000  경기도 수원시 장안구 정자동   존재\n",
       " 4915  4111113100  경기도 수원시 장안구 이목동   존재\n",
       " 4916  4111113200  경기도 수원시 장안구 율전동   존재\n",
       " 4917  4111113300  경기도 수원시 장안구 천천동   존재,\n",
       " (61, 3))"
      ]
     },
     "execution_count": 12,
     "metadata": {},
     "output_type": "execute_result"
    }
   ],
   "source": [
    "# 수원시만 추출\n",
    "df2 = df1[df1.법정동명.str.contains('수원시')]\n",
    "df2.head(7), df2.shape"
   ]
  },
  {
   "cell_type": "code",
   "execution_count": 13,
   "metadata": {},
   "outputs": [
    {
     "data": {
      "text/plain": [
       "('경기도 수원시 장안구 파장동', '경기도 수원시 장안구 파장동')"
      ]
     },
     "execution_count": 13,
     "metadata": {},
     "output_type": "execute_result"
    }
   ],
   "source": [
    "# 파장동 인덱싱\n",
    "df2.법정동명[4913], df2.iloc[2, 1]"
   ]
  },
  {
   "attachments": {},
   "cell_type": "markdown",
   "metadata": {},
   "source": [
    "- 분할 메서드 : split"
   ]
  },
  {
   "cell_type": "code",
   "execution_count": 14,
   "metadata": {},
   "outputs": [
    {
     "data": {
      "text/plain": [
       "4819              [경기도, 수원시]\n",
       "4884         [경기도, 수원시, 장안구]\n",
       "4913    [경기도, 수원시, 장안구, 파장동]\n",
       "4914    [경기도, 수원시, 장안구, 정자동]\n",
       "4915    [경기도, 수원시, 장안구, 이목동]\n",
       "Name: 법정동명, dtype: object"
      ]
     },
     "execution_count": 14,
     "metadata": {},
     "output_type": "execute_result"
    }
   ],
   "source": [
    "df2.법정동명.str.split().head()"
   ]
  },
  {
   "attachments": {},
   "cell_type": "markdown",
   "metadata": {},
   "source": [
    "- 대체 메서드: replace, 문자열의 replace 메서드와 달리, 정규표현식 사용 가능"
   ]
  },
  {
   "cell_type": "code",
   "execution_count": 15,
   "metadata": {},
   "outputs": [
    {
     "data": {
      "text/plain": [
       "4819            경기도_수원시\n",
       "4884        경기도_수원시_장안구\n",
       "4913    경기도_수원시_장안구_파장동\n",
       "4914    경기도_수원시_장안구_정자동\n",
       "4915    경기도_수원시_장안구_이목동\n",
       "Name: 법정동명, dtype: object"
      ]
     },
     "execution_count": 15,
     "metadata": {},
     "output_type": "execute_result"
    }
   ],
   "source": [
    "df2.법정동명.str.replace(' ', '_').head()"
   ]
  },
  {
   "cell_type": "code",
   "execution_count": 16,
   "metadata": {},
   "outputs": [
    {
     "data": {
      "text/plain": [
       "4819            경기도    \n",
       "4884        경기도     장 구\n",
       "4913    경기도     장 구 파장동\n",
       "4914    경기도     장 구 정자동\n",
       "4915    경기도     장 구  목동\n",
       "Name: 법정동명, dtype: object"
      ]
     },
     "execution_count": 16,
     "metadata": {},
     "output_type": "execute_result"
    }
   ],
   "source": [
    "# 초성이 ㅅ, ㅇ 인 경우 blank로\n",
    "df2.법정동명.str.replace('[사-잏]', ' ', regex=True).head()        "
   ]
  },
  {
   "attachments": {},
   "cell_type": "markdown",
   "metadata": {},
   "source": [
    "- cctv 데이터"
   ]
  },
  {
   "cell_type": "code",
   "execution_count": 17,
   "metadata": {},
   "outputs": [
    {
     "data": {
      "text/html": [
       "<div>\n",
       "<style scoped>\n",
       "    .dataframe tbody tr th:only-of-type {\n",
       "        vertical-align: middle;\n",
       "    }\n",
       "\n",
       "    .dataframe tbody tr th {\n",
       "        vertical-align: top;\n",
       "    }\n",
       "\n",
       "    .dataframe thead th {\n",
       "        text-align: right;\n",
       "    }\n",
       "</style>\n",
       "<table border=\"1\" class=\"dataframe\">\n",
       "  <thead>\n",
       "    <tr style=\"text-align: right;\">\n",
       "      <th></th>\n",
       "      <th>구분</th>\n",
       "      <th>총계</th>\n",
       "      <th>2013년 이전설치된 CCTV</th>\n",
       "      <th>2013년</th>\n",
       "      <th>2014년</th>\n",
       "      <th>2015년</th>\n",
       "      <th>2016년</th>\n",
       "      <th>2017년</th>\n",
       "      <th>2018년</th>\n",
       "      <th>2019년</th>\n",
       "      <th>2020년</th>\n",
       "      <th>2021년</th>\n",
       "      <th>2022년</th>\n",
       "    </tr>\n",
       "  </thead>\n",
       "  <tbody>\n",
       "    <tr>\n",
       "      <th>0</th>\n",
       "      <td>계</td>\n",
       "      <td>91,341</td>\n",
       "      <td>2,804</td>\n",
       "      <td>3,097</td>\n",
       "      <td>3,981</td>\n",
       "      <td>6,576</td>\n",
       "      <td>8,850</td>\n",
       "      <td>11,566</td>\n",
       "      <td>11,024</td>\n",
       "      <td>13,151</td>\n",
       "      <td>11,912</td>\n",
       "      <td>9,144</td>\n",
       "      <td>9,236</td>\n",
       "    </tr>\n",
       "    <tr>\n",
       "      <th>1</th>\n",
       "      <td>종로구</td>\n",
       "      <td>1,980</td>\n",
       "      <td>36</td>\n",
       "      <td>540</td>\n",
       "      <td>107</td>\n",
       "      <td>161</td>\n",
       "      <td>131</td>\n",
       "      <td>158</td>\n",
       "      <td>152</td>\n",
       "      <td>69</td>\n",
       "      <td>250</td>\n",
       "      <td>85</td>\n",
       "      <td>291</td>\n",
       "    </tr>\n",
       "    <tr>\n",
       "      <th>2</th>\n",
       "      <td>중 구</td>\n",
       "      <td>2,584</td>\n",
       "      <td>130</td>\n",
       "      <td>87</td>\n",
       "      <td>77</td>\n",
       "      <td>236</td>\n",
       "      <td>240</td>\n",
       "      <td>372</td>\n",
       "      <td>386</td>\n",
       "      <td>155</td>\n",
       "      <td>361</td>\n",
       "      <td>403</td>\n",
       "      <td>137</td>\n",
       "    </tr>\n",
       "    <tr>\n",
       "      <th>3</th>\n",
       "      <td>용산구</td>\n",
       "      <td>2,847</td>\n",
       "      <td>44</td>\n",
       "      <td>50</td>\n",
       "      <td>68</td>\n",
       "      <td>83</td>\n",
       "      <td>295</td>\n",
       "      <td>491</td>\n",
       "      <td>115</td>\n",
       "      <td>322</td>\n",
       "      <td>623</td>\n",
       "      <td>422</td>\n",
       "      <td>334</td>\n",
       "    </tr>\n",
       "    <tr>\n",
       "      <th>4</th>\n",
       "      <td>성동구</td>\n",
       "      <td>4,047</td>\n",
       "      <td>58</td>\n",
       "      <td>99</td>\n",
       "      <td>110</td>\n",
       "      <td>366</td>\n",
       "      <td>279</td>\n",
       "      <td>945</td>\n",
       "      <td>459</td>\n",
       "      <td>647</td>\n",
       "      <td>485</td>\n",
       "      <td>367</td>\n",
       "      <td>232</td>\n",
       "    </tr>\n",
       "  </tbody>\n",
       "</table>\n",
       "</div>"
      ],
      "text/plain": [
       "    구분      총계 2013년 이전설치된 CCTV  2013년  2014년  2015년  2016년   2017년   2018년   \n",
       "0    계  91,341            2,804  3,097  3,981  6,576  8,850  11,566  11,024  \\\n",
       "1  종로구   1,980               36    540    107    161    131     158     152   \n",
       "2  중 구   2,584              130     87     77    236    240     372     386   \n",
       "3  용산구   2,847               44     50     68     83    295     491     115   \n",
       "4  성동구   4,047               58     99    110    366    279     945     459   \n",
       "\n",
       "    2019년   2020년  2021년  2022년  \n",
       "0  13,151  11,912  9,144  9,236  \n",
       "1      69     250     85    291  \n",
       "2     155     361    403    137  \n",
       "3     322     623    422    334  \n",
       "4     647     485    367    232  "
      ]
     },
     "execution_count": 17,
     "metadata": {},
     "output_type": "execute_result"
    }
   ],
   "source": [
    "filename = 'data/서울시 자치구 년도별 CCTV 설치 현황_221231기준.csv'\n",
    "cctv = pd.read_csv(filename, encoding='euc-kr')\n",
    "cctv.head()"
   ]
  },
  {
   "cell_type": "code",
   "execution_count": 18,
   "metadata": {},
   "outputs": [
    {
     "data": {
      "text/html": [
       "<div>\n",
       "<style scoped>\n",
       "    .dataframe tbody tr th:only-of-type {\n",
       "        vertical-align: middle;\n",
       "    }\n",
       "\n",
       "    .dataframe tbody tr th {\n",
       "        vertical-align: top;\n",
       "    }\n",
       "\n",
       "    .dataframe thead th {\n",
       "        text-align: right;\n",
       "    }\n",
       "</style>\n",
       "<table border=\"1\" class=\"dataframe\">\n",
       "  <thead>\n",
       "    <tr style=\"text-align: right;\">\n",
       "      <th></th>\n",
       "      <th>구분</th>\n",
       "      <th>총계</th>\n",
       "      <th>2013년 이전설치된 CCTV</th>\n",
       "      <th>2013년</th>\n",
       "      <th>2014년</th>\n",
       "      <th>2015년</th>\n",
       "      <th>2016년</th>\n",
       "      <th>2017년</th>\n",
       "      <th>2018년</th>\n",
       "      <th>2019년</th>\n",
       "      <th>2020년</th>\n",
       "      <th>2021년</th>\n",
       "      <th>2022년</th>\n",
       "    </tr>\n",
       "  </thead>\n",
       "  <tbody>\n",
       "    <tr>\n",
       "      <th>0</th>\n",
       "      <td>계</td>\n",
       "      <td>91341</td>\n",
       "      <td>2,804</td>\n",
       "      <td>3,097</td>\n",
       "      <td>3,981</td>\n",
       "      <td>6,576</td>\n",
       "      <td>8,850</td>\n",
       "      <td>11,566</td>\n",
       "      <td>11,024</td>\n",
       "      <td>13,151</td>\n",
       "      <td>11,912</td>\n",
       "      <td>9,144</td>\n",
       "      <td>9,236</td>\n",
       "    </tr>\n",
       "    <tr>\n",
       "      <th>1</th>\n",
       "      <td>종로구</td>\n",
       "      <td>1980</td>\n",
       "      <td>36</td>\n",
       "      <td>540</td>\n",
       "      <td>107</td>\n",
       "      <td>161</td>\n",
       "      <td>131</td>\n",
       "      <td>158</td>\n",
       "      <td>152</td>\n",
       "      <td>69</td>\n",
       "      <td>250</td>\n",
       "      <td>85</td>\n",
       "      <td>291</td>\n",
       "    </tr>\n",
       "    <tr>\n",
       "      <th>2</th>\n",
       "      <td>중 구</td>\n",
       "      <td>2584</td>\n",
       "      <td>130</td>\n",
       "      <td>87</td>\n",
       "      <td>77</td>\n",
       "      <td>236</td>\n",
       "      <td>240</td>\n",
       "      <td>372</td>\n",
       "      <td>386</td>\n",
       "      <td>155</td>\n",
       "      <td>361</td>\n",
       "      <td>403</td>\n",
       "      <td>137</td>\n",
       "    </tr>\n",
       "    <tr>\n",
       "      <th>3</th>\n",
       "      <td>용산구</td>\n",
       "      <td>2847</td>\n",
       "      <td>44</td>\n",
       "      <td>50</td>\n",
       "      <td>68</td>\n",
       "      <td>83</td>\n",
       "      <td>295</td>\n",
       "      <td>491</td>\n",
       "      <td>115</td>\n",
       "      <td>322</td>\n",
       "      <td>623</td>\n",
       "      <td>422</td>\n",
       "      <td>334</td>\n",
       "    </tr>\n",
       "    <tr>\n",
       "      <th>4</th>\n",
       "      <td>성동구</td>\n",
       "      <td>4047</td>\n",
       "      <td>58</td>\n",
       "      <td>99</td>\n",
       "      <td>110</td>\n",
       "      <td>366</td>\n",
       "      <td>279</td>\n",
       "      <td>945</td>\n",
       "      <td>459</td>\n",
       "      <td>647</td>\n",
       "      <td>485</td>\n",
       "      <td>367</td>\n",
       "      <td>232</td>\n",
       "    </tr>\n",
       "    <tr>\n",
       "      <th>5</th>\n",
       "      <td>광진구</td>\n",
       "      <td>3480</td>\n",
       "      <td>507</td>\n",
       "      <td>82</td>\n",
       "      <td>84</td>\n",
       "      <td>64</td>\n",
       "      <td>21</td>\n",
       "      <td>465</td>\n",
       "      <td>443</td>\n",
       "      <td>709</td>\n",
       "      <td>172</td>\n",
       "      <td>662</td>\n",
       "      <td>271</td>\n",
       "    </tr>\n",
       "    <tr>\n",
       "      <th>6</th>\n",
       "      <td>동대문구</td>\n",
       "      <td>2759</td>\n",
       "      <td>1</td>\n",
       "      <td>4</td>\n",
       "      <td>12</td>\n",
       "      <td>107</td>\n",
       "      <td>802</td>\n",
       "      <td>711</td>\n",
       "      <td>201</td>\n",
       "      <td>218</td>\n",
       "      <td>223</td>\n",
       "      <td>221</td>\n",
       "      <td>259</td>\n",
       "    </tr>\n",
       "    <tr>\n",
       "      <th>7</th>\n",
       "      <td>중랑구</td>\n",
       "      <td>4193</td>\n",
       "      <td>224</td>\n",
       "      <td>331</td>\n",
       "      <td>104</td>\n",
       "      <td>145</td>\n",
       "      <td>153</td>\n",
       "      <td>170</td>\n",
       "      <td>215</td>\n",
       "      <td>1,074</td>\n",
       "      <td>976</td>\n",
       "      <td>507</td>\n",
       "      <td>294</td>\n",
       "    </tr>\n",
       "    <tr>\n",
       "      <th>8</th>\n",
       "      <td>성북구</td>\n",
       "      <td>4842</td>\n",
       "      <td>137</td>\n",
       "      <td>170</td>\n",
       "      <td>229</td>\n",
       "      <td>322</td>\n",
       "      <td>594</td>\n",
       "      <td>811</td>\n",
       "      <td>867</td>\n",
       "      <td>714</td>\n",
       "      <td>253</td>\n",
       "      <td>407</td>\n",
       "      <td>338</td>\n",
       "    </tr>\n",
       "    <tr>\n",
       "      <th>9</th>\n",
       "      <td>강북구</td>\n",
       "      <td>3321</td>\n",
       "      <td>0</td>\n",
       "      <td>21</td>\n",
       "      <td>16</td>\n",
       "      <td>68</td>\n",
       "      <td>210</td>\n",
       "      <td>4</td>\n",
       "      <td>375</td>\n",
       "      <td>963</td>\n",
       "      <td>569</td>\n",
       "      <td>298</td>\n",
       "      <td>797</td>\n",
       "    </tr>\n",
       "    <tr>\n",
       "      <th>10</th>\n",
       "      <td>도봉구</td>\n",
       "      <td>2247</td>\n",
       "      <td>103</td>\n",
       "      <td>2</td>\n",
       "      <td>79</td>\n",
       "      <td>72</td>\n",
       "      <td>103</td>\n",
       "      <td>117</td>\n",
       "      <td>200</td>\n",
       "      <td>202</td>\n",
       "      <td>183</td>\n",
       "      <td>600</td>\n",
       "      <td>586</td>\n",
       "    </tr>\n",
       "    <tr>\n",
       "      <th>11</th>\n",
       "      <td>노원구</td>\n",
       "      <td>2617</td>\n",
       "      <td>77</td>\n",
       "      <td>153</td>\n",
       "      <td>75</td>\n",
       "      <td>510</td>\n",
       "      <td>329</td>\n",
       "      <td>172</td>\n",
       "      <td>216</td>\n",
       "      <td>326</td>\n",
       "      <td>387</td>\n",
       "      <td>220</td>\n",
       "      <td>152</td>\n",
       "    </tr>\n",
       "    <tr>\n",
       "      <th>12</th>\n",
       "      <td>은평구</td>\n",
       "      <td>4653</td>\n",
       "      <td>17</td>\n",
       "      <td>44</td>\n",
       "      <td>332</td>\n",
       "      <td>329</td>\n",
       "      <td>555</td>\n",
       "      <td>403</td>\n",
       "      <td>635</td>\n",
       "      <td>1,057</td>\n",
       "      <td>288</td>\n",
       "      <td>471</td>\n",
       "      <td>522</td>\n",
       "    </tr>\n",
       "    <tr>\n",
       "      <th>13</th>\n",
       "      <td>서대문구</td>\n",
       "      <td>3445</td>\n",
       "      <td>312</td>\n",
       "      <td>144</td>\n",
       "      <td>127</td>\n",
       "      <td>77</td>\n",
       "      <td>254</td>\n",
       "      <td>524</td>\n",
       "      <td>389</td>\n",
       "      <td>344</td>\n",
       "      <td>587</td>\n",
       "      <td>207</td>\n",
       "      <td>480</td>\n",
       "    </tr>\n",
       "    <tr>\n",
       "      <th>14</th>\n",
       "      <td>마포구</td>\n",
       "      <td>2628</td>\n",
       "      <td>21</td>\n",
       "      <td>40</td>\n",
       "      <td>109</td>\n",
       "      <td>170</td>\n",
       "      <td>458</td>\n",
       "      <td>376</td>\n",
       "      <td>368</td>\n",
       "      <td>494</td>\n",
       "      <td>298</td>\n",
       "      <td>177</td>\n",
       "      <td>117</td>\n",
       "    </tr>\n",
       "    <tr>\n",
       "      <th>15</th>\n",
       "      <td>양천구</td>\n",
       "      <td>3851</td>\n",
       "      <td>197</td>\n",
       "      <td>139</td>\n",
       "      <td>128</td>\n",
       "      <td>239</td>\n",
       "      <td>422</td>\n",
       "      <td>563</td>\n",
       "      <td>830</td>\n",
       "      <td>311</td>\n",
       "      <td>337</td>\n",
       "      <td>338</td>\n",
       "      <td>347</td>\n",
       "    </tr>\n",
       "    <tr>\n",
       "      <th>16</th>\n",
       "      <td>강서구</td>\n",
       "      <td>3265</td>\n",
       "      <td>67</td>\n",
       "      <td>59</td>\n",
       "      <td>202</td>\n",
       "      <td>193</td>\n",
       "      <td>168</td>\n",
       "      <td>506</td>\n",
       "      <td>259</td>\n",
       "      <td>458</td>\n",
       "      <td>359</td>\n",
       "      <td>439</td>\n",
       "      <td>555</td>\n",
       "    </tr>\n",
       "    <tr>\n",
       "      <th>17</th>\n",
       "      <td>구로구</td>\n",
       "      <td>4693</td>\n",
       "      <td>37</td>\n",
       "      <td>361</td>\n",
       "      <td>193</td>\n",
       "      <td>269</td>\n",
       "      <td>353</td>\n",
       "      <td>563</td>\n",
       "      <td>545</td>\n",
       "      <td>794</td>\n",
       "      <td>651</td>\n",
       "      <td>684</td>\n",
       "      <td>243</td>\n",
       "    </tr>\n",
       "    <tr>\n",
       "      <th>18</th>\n",
       "      <td>금천구</td>\n",
       "      <td>2636</td>\n",
       "      <td>0</td>\n",
       "      <td>0</td>\n",
       "      <td>43</td>\n",
       "      <td>361</td>\n",
       "      <td>133</td>\n",
       "      <td>196</td>\n",
       "      <td>539</td>\n",
       "      <td>367</td>\n",
       "      <td>513</td>\n",
       "      <td>207</td>\n",
       "      <td>277</td>\n",
       "    </tr>\n",
       "    <tr>\n",
       "      <th>19</th>\n",
       "      <td>영등포구</td>\n",
       "      <td>4553</td>\n",
       "      <td>109</td>\n",
       "      <td>81</td>\n",
       "      <td>295</td>\n",
       "      <td>360</td>\n",
       "      <td>285</td>\n",
       "      <td>422</td>\n",
       "      <td>803</td>\n",
       "      <td>153</td>\n",
       "      <td>1,357</td>\n",
       "      <td>329</td>\n",
       "      <td>359</td>\n",
       "    </tr>\n",
       "    <tr>\n",
       "      <th>20</th>\n",
       "      <td>동작구</td>\n",
       "      <td>2671</td>\n",
       "      <td>66</td>\n",
       "      <td>25</td>\n",
       "      <td>502</td>\n",
       "      <td>127</td>\n",
       "      <td>256</td>\n",
       "      <td>271</td>\n",
       "      <td>300</td>\n",
       "      <td>307</td>\n",
       "      <td>432</td>\n",
       "      <td>30</td>\n",
       "      <td>355</td>\n",
       "    </tr>\n",
       "    <tr>\n",
       "      <th>21</th>\n",
       "      <td>관악구</td>\n",
       "      <td>5398</td>\n",
       "      <td>362</td>\n",
       "      <td>244</td>\n",
       "      <td>302</td>\n",
       "      <td>537</td>\n",
       "      <td>607</td>\n",
       "      <td>676</td>\n",
       "      <td>662</td>\n",
       "      <td>890</td>\n",
       "      <td>404</td>\n",
       "      <td>550</td>\n",
       "      <td>164</td>\n",
       "    </tr>\n",
       "    <tr>\n",
       "      <th>22</th>\n",
       "      <td>서초구</td>\n",
       "      <td>4995</td>\n",
       "      <td>74</td>\n",
       "      <td>86</td>\n",
       "      <td>70</td>\n",
       "      <td>559</td>\n",
       "      <td>518</td>\n",
       "      <td>1,054</td>\n",
       "      <td>426</td>\n",
       "      <td>344</td>\n",
       "      <td>422</td>\n",
       "      <td>566</td>\n",
       "      <td>876</td>\n",
       "    </tr>\n",
       "    <tr>\n",
       "      <th>23</th>\n",
       "      <td>강남구</td>\n",
       "      <td>7243</td>\n",
       "      <td>59</td>\n",
       "      <td>62</td>\n",
       "      <td>573</td>\n",
       "      <td>826</td>\n",
       "      <td>1,295</td>\n",
       "      <td>989</td>\n",
       "      <td>744</td>\n",
       "      <td>790</td>\n",
       "      <td>923</td>\n",
       "      <td>514</td>\n",
       "      <td>468</td>\n",
       "    </tr>\n",
       "    <tr>\n",
       "      <th>24</th>\n",
       "      <td>송파구</td>\n",
       "      <td>3203</td>\n",
       "      <td>84</td>\n",
       "      <td>78</td>\n",
       "      <td>88</td>\n",
       "      <td>221</td>\n",
       "      <td>163</td>\n",
       "      <td>256</td>\n",
       "      <td>516</td>\n",
       "      <td>1,081</td>\n",
       "      <td>224</td>\n",
       "      <td>139</td>\n",
       "      <td>353</td>\n",
       "    </tr>\n",
       "    <tr>\n",
       "      <th>25</th>\n",
       "      <td>강동구</td>\n",
       "      <td>3190</td>\n",
       "      <td>82</td>\n",
       "      <td>195</td>\n",
       "      <td>56</td>\n",
       "      <td>174</td>\n",
       "      <td>226</td>\n",
       "      <td>351</td>\n",
       "      <td>379</td>\n",
       "      <td>362</td>\n",
       "      <td>635</td>\n",
       "      <td>301</td>\n",
       "      <td>429</td>\n",
       "    </tr>\n",
       "  </tbody>\n",
       "</table>\n",
       "</div>"
      ],
      "text/plain": [
       "      구분     총계 2013년 이전설치된 CCTV  2013년  2014년  2015년  2016년   2017년   2018년   \n",
       "0      계  91341            2,804  3,097  3,981  6,576  8,850  11,566  11,024  \\\n",
       "1    종로구   1980               36    540    107    161    131     158     152   \n",
       "2    중 구   2584              130     87     77    236    240     372     386   \n",
       "3    용산구   2847               44     50     68     83    295     491     115   \n",
       "4    성동구   4047               58     99    110    366    279     945     459   \n",
       "5    광진구   3480              507     82     84     64     21     465     443   \n",
       "6   동대문구   2759                1      4     12    107    802     711     201   \n",
       "7    중랑구   4193              224    331    104    145    153     170     215   \n",
       "8    성북구   4842              137    170    229    322    594     811     867   \n",
       "9    강북구   3321                0     21     16     68    210       4     375   \n",
       "10   도봉구   2247              103      2     79     72    103     117     200   \n",
       "11   노원구   2617               77    153     75    510    329     172     216   \n",
       "12   은평구   4653               17     44    332    329    555     403     635   \n",
       "13  서대문구   3445              312    144    127     77    254     524     389   \n",
       "14   마포구   2628               21     40    109    170    458     376     368   \n",
       "15   양천구   3851              197    139    128    239    422     563     830   \n",
       "16   강서구   3265               67     59    202    193    168     506     259   \n",
       "17   구로구   4693               37    361    193    269    353     563     545   \n",
       "18   금천구   2636                0      0     43    361    133     196     539   \n",
       "19  영등포구   4553              109     81    295    360    285     422     803   \n",
       "20   동작구   2671               66     25    502    127    256     271     300   \n",
       "21   관악구   5398              362    244    302    537    607     676     662   \n",
       "22   서초구   4995               74     86     70    559    518   1,054     426   \n",
       "23   강남구   7243               59     62    573    826  1,295     989     744   \n",
       "24   송파구   3203               84     78     88    221    163     256     516   \n",
       "25   강동구   3190               82    195     56    174    226     351     379   \n",
       "\n",
       "     2019년   2020년  2021년  2022년  \n",
       "0   13,151  11,912  9,144  9,236  \n",
       "1       69     250     85    291  \n",
       "2      155     361    403    137  \n",
       "3      322     623    422    334  \n",
       "4      647     485    367    232  \n",
       "5      709     172    662    271  \n",
       "6      218     223    221    259  \n",
       "7    1,074     976    507    294  \n",
       "8      714     253    407    338  \n",
       "9      963     569    298    797  \n",
       "10     202     183    600    586  \n",
       "11     326     387    220    152  \n",
       "12   1,057     288    471    522  \n",
       "13     344     587    207    480  \n",
       "14     494     298    177    117  \n",
       "15     311     337    338    347  \n",
       "16     458     359    439    555  \n",
       "17     794     651    684    243  \n",
       "18     367     513    207    277  \n",
       "19     153   1,357    329    359  \n",
       "20     307     432     30    355  \n",
       "21     890     404    550    164  \n",
       "22     344     422    566    876  \n",
       "23     790     923    514    468  \n",
       "24   1,081     224    139    353  \n",
       "25     362     635    301    429  "
      ]
     },
     "execution_count": 18,
     "metadata": {},
     "output_type": "execute_result"
    }
   ],
   "source": [
    "# 총계 데이터를 정수로 변환\n",
    "cctv['총계'] = cctv.총계.str.replace(',', '').astype(int)\n",
    "cctv"
   ]
  },
  {
   "cell_type": "code",
   "execution_count": 27,
   "metadata": {},
   "outputs": [
    {
     "ename": "AttributeError",
     "evalue": "'DataFrame' object has no attribute 'i'",
     "output_type": "error",
     "traceback": [
      "\u001b[1;31m---------------------------------------------------------------------------\u001b[0m",
      "\u001b[1;31mAttributeError\u001b[0m                            Traceback (most recent call last)",
      "Cell \u001b[1;32mIn[27], line 3\u001b[0m\n\u001b[0;32m      1\u001b[0m \u001b[39m# 나머지 컬럼도 천단위 구분기호 없애고 정수로 변환\u001b[39;00m\n\u001b[0;32m      2\u001b[0m \u001b[39mfor\u001b[39;00m i \u001b[39min\u001b[39;00m cctv[\u001b[39m2\u001b[39m:]:\n\u001b[1;32m----> 3\u001b[0m     cctv[i] \u001b[39m=\u001b[39m cctv\u001b[39m.\u001b[39;49mi\u001b[39m.\u001b[39mstr\u001b[39m.\u001b[39mreplace(\u001b[39m'\u001b[39m\u001b[39m,\u001b[39m\u001b[39m'\u001b[39m, \u001b[39m'\u001b[39m\u001b[39m'\u001b[39m)\u001b[39m.\u001b[39mastype(\u001b[39mint\u001b[39m)\n\u001b[0;32m      4\u001b[0m cctv\n",
      "File \u001b[1;32mc:\\Users\\choib\\anaconda3\\lib\\site-packages\\pandas\\core\\generic.py:5989\u001b[0m, in \u001b[0;36mNDFrame.__getattr__\u001b[1;34m(self, name)\u001b[0m\n\u001b[0;32m   5982\u001b[0m \u001b[39mif\u001b[39;00m (\n\u001b[0;32m   5983\u001b[0m     name \u001b[39mnot\u001b[39;00m \u001b[39min\u001b[39;00m \u001b[39mself\u001b[39m\u001b[39m.\u001b[39m_internal_names_set\n\u001b[0;32m   5984\u001b[0m     \u001b[39mand\u001b[39;00m name \u001b[39mnot\u001b[39;00m \u001b[39min\u001b[39;00m \u001b[39mself\u001b[39m\u001b[39m.\u001b[39m_metadata\n\u001b[0;32m   5985\u001b[0m     \u001b[39mand\u001b[39;00m name \u001b[39mnot\u001b[39;00m \u001b[39min\u001b[39;00m \u001b[39mself\u001b[39m\u001b[39m.\u001b[39m_accessors\n\u001b[0;32m   5986\u001b[0m     \u001b[39mand\u001b[39;00m \u001b[39mself\u001b[39m\u001b[39m.\u001b[39m_info_axis\u001b[39m.\u001b[39m_can_hold_identifiers_and_holds_name(name)\n\u001b[0;32m   5987\u001b[0m ):\n\u001b[0;32m   5988\u001b[0m     \u001b[39mreturn\u001b[39;00m \u001b[39mself\u001b[39m[name]\n\u001b[1;32m-> 5989\u001b[0m \u001b[39mreturn\u001b[39;00m \u001b[39mobject\u001b[39;49m\u001b[39m.\u001b[39;49m\u001b[39m__getattribute__\u001b[39;49m(\u001b[39mself\u001b[39;49m, name)\n",
      "\u001b[1;31mAttributeError\u001b[0m: 'DataFrame' object has no attribute 'i'"
     ]
    }
   ],
   "source": [
    "# 나머지 컬럼도 천단위 구분기호 없애고 정수로 변환\n",
    "for i in cctv[2:]:\n",
    "    cctv[i] = cctv[i].str.replace(',', '').astype(int)\n",
    "cctv"
   ]
  },
  {
   "cell_type": "code",
   "execution_count": 22,
   "metadata": {},
   "outputs": [
    {
     "ename": "TypeError",
     "evalue": "'builtin_function_or_method' object is not subscriptable",
     "output_type": "error",
     "traceback": [
      "\u001b[1;31m---------------------------------------------------------------------------\u001b[0m",
      "\u001b[1;31mTypeError\u001b[0m                                 Traceback (most recent call last)",
      "Cell \u001b[1;32mIn[22], line 2\u001b[0m\n\u001b[0;32m      1\u001b[0m \u001b[39mfor\u001b[39;00m i \u001b[39min\u001b[39;00m cctv\u001b[39m.\u001b[39mindex:\n\u001b[1;32m----> 2\u001b[0m     \u001b[39mprint\u001b[39m(cctv\u001b[39m.\u001b[39m구분[i], \u001b[39mlen\u001b[39;49m[cctv\u001b[39m.\u001b[39;49m구분[i]])\n",
      "\u001b[1;31mTypeError\u001b[0m: 'builtin_function_or_method' object is not subscriptable"
     ]
    }
   ],
   "source": [
    "for i in cctv.index:\n",
    "    print(cctv.구분[i], len[cctv.구분[i]])"
   ]
  },
  {
   "attachments": {},
   "cell_type": "markdown",
   "metadata": {},
   "source": [
    "- 파일을 제대로 읽는 방법"
   ]
  },
  {
   "cell_type": "code",
   "execution_count": 24,
   "metadata": {},
   "outputs": [
    {
     "data": {
      "text/html": [
       "<div>\n",
       "<style scoped>\n",
       "    .dataframe tbody tr th:only-of-type {\n",
       "        vertical-align: middle;\n",
       "    }\n",
       "\n",
       "    .dataframe tbody tr th {\n",
       "        vertical-align: top;\n",
       "    }\n",
       "\n",
       "    .dataframe thead th {\n",
       "        text-align: right;\n",
       "    }\n",
       "</style>\n",
       "<table border=\"1\" class=\"dataframe\">\n",
       "  <thead>\n",
       "    <tr style=\"text-align: right;\">\n",
       "      <th></th>\n",
       "      <th>구분</th>\n",
       "      <th>총계</th>\n",
       "      <th>2013년 이전설치된 CCTV</th>\n",
       "      <th>2013년</th>\n",
       "      <th>2014년</th>\n",
       "      <th>2015년</th>\n",
       "      <th>2016년</th>\n",
       "      <th>2017년</th>\n",
       "      <th>2018년</th>\n",
       "      <th>2019년</th>\n",
       "      <th>2020년</th>\n",
       "      <th>2021년</th>\n",
       "      <th>2022년</th>\n",
       "    </tr>\n",
       "  </thead>\n",
       "  <tbody>\n",
       "    <tr>\n",
       "      <th>0</th>\n",
       "      <td>계</td>\n",
       "      <td>91341</td>\n",
       "      <td>2804</td>\n",
       "      <td>3097</td>\n",
       "      <td>3981</td>\n",
       "      <td>6576</td>\n",
       "      <td>8850</td>\n",
       "      <td>11566</td>\n",
       "      <td>11024</td>\n",
       "      <td>13151</td>\n",
       "      <td>11912</td>\n",
       "      <td>9144</td>\n",
       "      <td>9236</td>\n",
       "    </tr>\n",
       "    <tr>\n",
       "      <th>1</th>\n",
       "      <td>종로구</td>\n",
       "      <td>1980</td>\n",
       "      <td>36</td>\n",
       "      <td>540</td>\n",
       "      <td>107</td>\n",
       "      <td>161</td>\n",
       "      <td>131</td>\n",
       "      <td>158</td>\n",
       "      <td>152</td>\n",
       "      <td>69</td>\n",
       "      <td>250</td>\n",
       "      <td>85</td>\n",
       "      <td>291</td>\n",
       "    </tr>\n",
       "    <tr>\n",
       "      <th>2</th>\n",
       "      <td>중 구</td>\n",
       "      <td>2584</td>\n",
       "      <td>130</td>\n",
       "      <td>87</td>\n",
       "      <td>77</td>\n",
       "      <td>236</td>\n",
       "      <td>240</td>\n",
       "      <td>372</td>\n",
       "      <td>386</td>\n",
       "      <td>155</td>\n",
       "      <td>361</td>\n",
       "      <td>403</td>\n",
       "      <td>137</td>\n",
       "    </tr>\n",
       "    <tr>\n",
       "      <th>3</th>\n",
       "      <td>용산구</td>\n",
       "      <td>2847</td>\n",
       "      <td>44</td>\n",
       "      <td>50</td>\n",
       "      <td>68</td>\n",
       "      <td>83</td>\n",
       "      <td>295</td>\n",
       "      <td>491</td>\n",
       "      <td>115</td>\n",
       "      <td>322</td>\n",
       "      <td>623</td>\n",
       "      <td>422</td>\n",
       "      <td>334</td>\n",
       "    </tr>\n",
       "    <tr>\n",
       "      <th>4</th>\n",
       "      <td>성동구</td>\n",
       "      <td>4047</td>\n",
       "      <td>58</td>\n",
       "      <td>99</td>\n",
       "      <td>110</td>\n",
       "      <td>366</td>\n",
       "      <td>279</td>\n",
       "      <td>945</td>\n",
       "      <td>459</td>\n",
       "      <td>647</td>\n",
       "      <td>485</td>\n",
       "      <td>367</td>\n",
       "      <td>232</td>\n",
       "    </tr>\n",
       "  </tbody>\n",
       "</table>\n",
       "</div>"
      ],
      "text/plain": [
       "    구분     총계  2013년 이전설치된 CCTV  2013년  2014년  2015년  2016년  2017년  2018년   \n",
       "0    계  91341              2804   3097   3981   6576   8850  11566  11024  \\\n",
       "1  종로구   1980                36    540    107    161    131    158    152   \n",
       "2  중 구   2584               130     87     77    236    240    372    386   \n",
       "3  용산구   2847                44     50     68     83    295    491    115   \n",
       "4  성동구   4047                58     99    110    366    279    945    459   \n",
       "\n",
       "   2019년  2020년  2021년  2022년  \n",
       "0  13151  11912   9144   9236  \n",
       "1     69    250     85    291  \n",
       "2    155    361    403    137  \n",
       "3    322    623    422    334  \n",
       "4    647    485    367    232  "
      ]
     },
     "execution_count": 24,
     "metadata": {},
     "output_type": "execute_result"
    }
   ],
   "source": [
    "cctv = pd.read_csv(filename, encoding='euc-kr', thousands=',')\n",
    "cctv.head()"
   ]
  },
  {
   "cell_type": "code",
   "execution_count": 25,
   "metadata": {},
   "outputs": [
    {
     "data": {
      "text/plain": [
       "numpy.int64"
      ]
     },
     "execution_count": 25,
     "metadata": {},
     "output_type": "execute_result"
    }
   ],
   "source": [
    "type(cctv['총계'][0])"
   ]
  },
  {
   "cell_type": "code",
   "execution_count": null,
   "metadata": {},
   "outputs": [],
   "source": []
  }
 ],
 "metadata": {
  "kernelspec": {
   "display_name": "base",
   "language": "python",
   "name": "python3"
  },
  "language_info": {
   "codemirror_mode": {
    "name": "ipython",
    "version": 3
   },
   "file_extension": ".py",
   "mimetype": "text/x-python",
   "name": "python",
   "nbconvert_exporter": "python",
   "pygments_lexer": "ipython3",
   "version": "3.10.10"
  },
  "orig_nbformat": 4
 },
 "nbformat": 4,
 "nbformat_minor": 2
}
