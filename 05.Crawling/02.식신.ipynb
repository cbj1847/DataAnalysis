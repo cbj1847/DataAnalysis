{
 "cells": [
  {
   "attachments": {},
   "cell_type": "markdown",
   "metadata": {},
   "source": [
    "### 식신 - 장안문"
   ]
  },
  {
   "cell_type": "code",
   "execution_count": 42,
   "metadata": {},
   "outputs": [],
   "source": [
    "import requests\n",
    "from urllib.parse import quote\n",
    "import pandas as pd\n",
    "from bs4 import BeautifulSoup"
   ]
  },
  {
   "attachments": {},
   "cell_type": "markdown",
   "metadata": {},
   "source": [
    "##### 1. 데이터 가져오기"
   ]
  },
  {
   "cell_type": "code",
   "execution_count": 43,
   "metadata": {},
   "outputs": [],
   "source": [
    "# https://www.siksinhot.com/search?keywords=%EC%9E%A5%EC%95%88%EB%AC%B8\n",
    "base_url = 'https://www.siksinhot.com/search'\n",
    "url = f'{base_url}?keywords={quote(\"장안문\")}'\n",
    "result = requests.get(url)\n",
    "# html = result.text"
   ]
  },
  {
   "cell_type": "code",
   "execution_count": 44,
   "metadata": {},
   "outputs": [],
   "source": [
    "soup = BeautifulSoup(result.text, 'html.parser')"
   ]
  },
  {
   "attachments": {},
   "cell_type": "markdown",
   "metadata": {},
   "source": [
    "#### 2. 원하는 데이터 찾기"
   ]
  },
  {
   "cell_type": "code",
   "execution_count": 45,
   "metadata": {},
   "outputs": [
    {
     "data": {
      "text/plain": [
       "[<li data-reactid=\"58\"><figure data-reactid=\"59\"><a data-reactid=\"60\" href=\"https://www.siksinhot.com/P/317019\" target=\"_blank\"><img alt=\"장안문 , 서울특별시 중구 을지로3길 29\" data-reactid=\"61\" height=\"448\" src=\"https://img.siksinhot.com/place/1374703567238427.png?w=560&amp;h=448&amp;c=Y\" width=\"560\"/></a></figure><figcaption data-reactid=\"62\"><a class=\"textBox\" data-reactid=\"63\" href=\"https://www.siksinhot.com/P/317019\" target=\"_blank\"><h2 data-reactid=\"64\">장안문</h2><span class=\"score\" data-reactid=\"65\">3.5</span></a><p class=\"cate\" data-reactid=\"66\"><a data-reactid=\"67\" href=\"/search?keywords=시청\">시청</a><!-- react-text: 68 --> / <!-- /react-text --><a data-reactid=\"69\" href=\"/search?keywords=돼지갈비\">돼지갈비</a></p><p class=\"counting\" data-reactid=\"70\"><img data-reactid=\"71\" src=\"/static2/images/search/img/icon_view.png\"/><span data-reactid=\"72\">6019</span><img data-reactid=\"73\" src=\"/static2/images/search/img/icon_bookmark.png\"/><span data-reactid=\"74\">9</span></p></figcaption></li>,\n",
       " <li data-reactid=\"75\"><figure data-reactid=\"76\"><a data-reactid=\"77\" href=\"https://www.siksinhot.com/P/253618\" target=\"_blank\"><img alt=\"장안통닭 , 경기도 수원시 팔달구 팔달문로3번길 42\" data-reactid=\"78\" height=\"448\" src=\"https://img.siksinhot.com/place/1457672461607533.jpg?w=560&amp;h=448&amp;c=Y\" width=\"560\"/><img alt=\"best\" data-reactid=\"79\" src=\"/static2/images/common/ico_best_2.png\"/></a></figure><figcaption data-reactid=\"80\"><a class=\"textBox\" data-reactid=\"81\" href=\"https://www.siksinhot.com/P/253618\" target=\"_blank\"><h2 data-reactid=\"82\">장안통닭</h2><span class=\"score\" data-reactid=\"83\">4.2</span></a><p class=\"cate\" data-reactid=\"84\"><a data-reactid=\"85\" href=\"/search?keywords=수원-팔달구/인계/행궁\">수원-팔달구/인계/행궁</a><!-- react-text: 86 --> / <!-- /react-text --><a data-reactid=\"87\" href=\"/search?keywords=치킨/통닭\">치킨/통닭</a></p><p class=\"counting\" data-reactid=\"88\"><img data-reactid=\"89\" src=\"/static2/images/search/img/icon_view.png\"/><span data-reactid=\"90\">7040</span><img data-reactid=\"91\" src=\"/static2/images/search/img/icon_bookmark.png\"/><span data-reactid=\"92\">24</span></p></figcaption></li>,\n",
       " <li data-reactid=\"93\"><figure data-reactid=\"94\"><a data-reactid=\"95\" href=\"https://www.siksinhot.com/P/355813\" target=\"_blank\"><img alt=\"장안식당 , 전라남도 함평군 함평읍 함평천우길 54\" data-reactid=\"96\" height=\"448\" src=\"https://img.siksinhot.com/place/1416829035978107.jpg?w=560&amp;h=448&amp;c=Y\" width=\"560\"/><img alt=\"best\" data-reactid=\"97\" src=\"/static2/images/common/ico_best_2.png\"/></a></figure><figcaption data-reactid=\"98\"><a class=\"textBox\" data-reactid=\"99\" href=\"https://www.siksinhot.com/P/355813\" target=\"_blank\"><h2 data-reactid=\"100\">장안식당</h2><span class=\"score\" data-reactid=\"101\">3.7</span></a><p class=\"cate\" data-reactid=\"102\"><a data-reactid=\"103\" href=\"/search?keywords=함평\">함평</a><!-- react-text: 104 --> / <!-- /react-text --><a data-reactid=\"105\" href=\"/search?keywords=곱창/대창\">곱창/대창</a></p><p class=\"counting\" data-reactid=\"106\"><img data-reactid=\"107\" src=\"/static2/images/search/img/icon_view.png\"/><span data-reactid=\"108\">10306</span><img data-reactid=\"109\" src=\"/static2/images/search/img/icon_bookmark.png\"/><span data-reactid=\"110\">22</span></p></figcaption></li>,\n",
       " <li data-reactid=\"111\"><figure data-reactid=\"112\"><a data-reactid=\"113\" href=\"https://www.siksinhot.com/P/274019\" target=\"_blank\"><img alt=\"장안사 산장 , 부산광역시 기장군 장안읍 장안로 507 \" data-reactid=\"114\" height=\"448\" src=\"https://img.siksinhot.com/place/1359444389688882.jpg?w=560&amp;h=448&amp;c=Y\" width=\"560\"/><img alt=\"best\" data-reactid=\"115\" src=\"/static2/images/common/ico_best_0.png\"/></a></figure><figcaption data-reactid=\"116\"><a class=\"textBox\" data-reactid=\"117\" href=\"https://www.siksinhot.com/P/274019\" target=\"_blank\"><h2 data-reactid=\"118\">장안사 산장</h2><span class=\"score\" data-reactid=\"119\">3.5</span></a><p class=\"cate\" data-reactid=\"120\"><a data-reactid=\"121\" href=\"/search?keywords=기장군/정관\">기장군/정관</a><!-- react-text: 122 --> / <!-- /react-text --><a data-reactid=\"123\" href=\"/search?keywords=삼계탕/백숙/찜닭\">삼계탕/백숙/찜닭</a></p><p class=\"counting\" data-reactid=\"124\"><img data-reactid=\"125\" src=\"/static2/images/search/img/icon_view.png\"/><span data-reactid=\"126\">13486</span><img data-reactid=\"127\" src=\"/static2/images/search/img/icon_bookmark.png\"/><span data-reactid=\"128\">7</span></p></figcaption></li>,\n",
       " <li data-reactid=\"129\"><figure data-reactid=\"130\"><a data-reactid=\"131\" href=\"https://www.siksinhot.com/P/251410\" target=\"_blank\"><img alt=\"장안정 , 서울특별시 동대문구 답십리로 291-3\" data-reactid=\"132\" height=\"448\" src=\"https://img.siksinhot.com/place/1609913285546632.jpg?w=560&amp;h=448&amp;c=Y\" width=\"560\"/><img alt=\"best\" data-reactid=\"133\" src=\"/static2/images/common/ico_best_0.png\"/></a></figure><figcaption data-reactid=\"134\"><a class=\"textBox\" data-reactid=\"135\" href=\"https://www.siksinhot.com/P/251410\" target=\"_blank\"><h2 data-reactid=\"136\">장안정</h2><span class=\"score\" data-reactid=\"137\">3.7</span></a><p class=\"cate\" data-reactid=\"138\"><a data-reactid=\"139\" href=\"/search?keywords=왕십리/마장/답십리\">왕십리/마장/답십리</a><!-- react-text: 140 --> / <!-- /react-text --><a data-reactid=\"141\" href=\"/search?keywords=경양식/돈가스\">경양식/돈가스</a></p><p class=\"counting\" data-reactid=\"142\"><img data-reactid=\"143\" src=\"/static2/images/search/img/icon_view.png\"/><span data-reactid=\"144\">9895</span><img data-reactid=\"145\" src=\"/static2/images/search/img/icon_bookmark.png\"/><span data-reactid=\"146\">36</span></p></figcaption></li>,\n",
       " <li data-reactid=\"147\"><figure data-reactid=\"148\"><a data-reactid=\"149\" href=\"https://www.siksinhot.com/P/225777\" target=\"_blank\"><img alt=\"장안횟집 , 강원도 강릉시 사천면 진리항구길 51\" data-reactid=\"150\" height=\"448\" src=\"https://img.siksinhot.com/place/1464078791898400.png?w=560&amp;h=448&amp;c=Y\" width=\"560\"/><img alt=\"best\" data-reactid=\"151\" src=\"/static2/images/common/ico_best_0.png\"/></a></figure><figcaption data-reactid=\"152\"><a class=\"textBox\" data-reactid=\"153\" href=\"https://www.siksinhot.com/P/225777\" target=\"_blank\"><h2 data-reactid=\"154\">장안횟집</h2><span class=\"score\" data-reactid=\"155\">3.5</span></a><p class=\"cate\" data-reactid=\"156\"><a data-reactid=\"157\" href=\"/search?keywords=강릉시\">강릉시</a><!-- react-text: 158 --> / <!-- /react-text --><a data-reactid=\"159\" href=\"/search?keywords=회/횟집/참치\">회/횟집/참치</a></p><p class=\"counting\" data-reactid=\"160\"><img data-reactid=\"161\" src=\"/static2/images/search/img/icon_view.png\"/><span data-reactid=\"162\">26993</span><img data-reactid=\"163\" src=\"/static2/images/search/img/icon_bookmark.png\"/><span data-reactid=\"164\">81</span></p></figcaption></li>,\n",
       " <li data-reactid=\"165\"><figure data-reactid=\"166\"><a data-reactid=\"167\" href=\"https://www.siksinhot.com/P/482594\" target=\"_blank\"><img alt=\"장안민물장어 , 부산광역시 기장군 장안읍 하근1길 5\" data-reactid=\"168\" height=\"448\" src=\"https://img.siksinhot.com/place/1505892742710270.jpg?w=560&amp;h=448&amp;c=Y\" width=\"560\"/></a></figure><figcaption data-reactid=\"169\"><a class=\"textBox\" data-reactid=\"170\" href=\"https://www.siksinhot.com/P/482594\" target=\"_blank\"><h2 data-reactid=\"171\">장안민물장어</h2><span class=\"score\" data-reactid=\"172\">4.3</span></a><p class=\"cate\" data-reactid=\"173\"><a data-reactid=\"174\" href=\"/search?keywords=기장군/정관\">기장군/정관</a><!-- react-text: 175 --> / <!-- /react-text --><a data-reactid=\"176\" href=\"/search?keywords=장어/꼼장어\">장어/꼼장어</a></p><p class=\"counting\" data-reactid=\"177\"><img data-reactid=\"178\" src=\"/static2/images/search/img/icon_view.png\"/><span data-reactid=\"179\">5537</span><img data-reactid=\"180\" src=\"/static2/images/search/img/icon_bookmark.png\"/><span data-reactid=\"181\">0</span></p></figcaption></li>,\n",
       " <li data-reactid=\"182\"><figure data-reactid=\"183\"><a data-reactid=\"184\" href=\"https://www.siksinhot.com/P/372621\" target=\"_blank\"><img alt=\"장안설렁탕 , 서울 동대문구 천호대로89길 3\" data-reactid=\"185\" height=\"448\" src=\"https://img.siksinhot.com/place/1477156166254384.jpg?w=560&amp;h=448&amp;c=Y\" width=\"560\"/></a></figure><figcaption data-reactid=\"186\"><a class=\"textBox\" data-reactid=\"187\" href=\"https://www.siksinhot.com/P/372621\" target=\"_blank\"><h2 data-reactid=\"188\">장안설렁탕</h2><span class=\"score\" data-reactid=\"189\">2.1</span></a><p class=\"cate\" data-reactid=\"190\"><a data-reactid=\"191\" href=\"/search?keywords=왕십리/마장/답십리\">왕십리/마장/답십리</a><!-- react-text: 192 --> / <!-- /react-text --><a data-reactid=\"193\" href=\"/search?keywords=설렁탕/곰탕/갈비탕\">설렁탕/곰탕/갈비탕</a></p><p class=\"counting\" data-reactid=\"194\"><img data-reactid=\"195\" src=\"/static2/images/search/img/icon_view.png\"/><span data-reactid=\"196\">3455</span><img data-reactid=\"197\" src=\"/static2/images/search/img/icon_bookmark.png\"/><span data-reactid=\"198\">2</span></p></figcaption></li>,\n",
       " <li data-reactid=\"199\"><figure data-reactid=\"200\"><a data-reactid=\"201\" href=\"https://www.siksinhot.com/P/254465\" target=\"_blank\"><img alt=\"장안삼계탕  , 서울특별시 중구 세종대로18길 8\" data-reactid=\"202\" height=\"448\" src=\"https://img.siksinhot.com/place/1628753947905669.jpg?w=560&amp;h=448&amp;c=Y\" width=\"560\"/></a></figure><figcaption data-reactid=\"203\"><a class=\"textBox\" data-reactid=\"204\" href=\"https://www.siksinhot.com/P/254465\" target=\"_blank\"><h2 data-reactid=\"205\">장안삼계탕 </h2><span class=\"score\" data-reactid=\"206\">3.1</span></a><p class=\"cate\" data-reactid=\"207\"><a data-reactid=\"208\" href=\"/search?keywords=시청\">시청</a><!-- react-text: 209 --> / <!-- /react-text --><a data-reactid=\"210\" href=\"/search?keywords=삼계탕/백숙/찜닭\">삼계탕/백숙/찜닭</a></p><p class=\"counting\" data-reactid=\"211\"><img data-reactid=\"212\" src=\"/static2/images/search/img/icon_view.png\"/><span data-reactid=\"213\">7790</span><img data-reactid=\"214\" src=\"/static2/images/search/img/icon_bookmark.png\"/><span data-reactid=\"215\">12</span></p></figcaption></li>,\n",
       " <li data-reactid=\"216\"><figure data-reactid=\"217\"><a data-reactid=\"218\" href=\"https://www.siksinhot.com/P/358692\" target=\"_blank\"><img alt=\"장안아구촌 \" data-reactid=\"219\" height=\"448\" src=\"https://img.siksinhot.com/place/1431547204132833.JPG?w=560&amp;h=448&amp;c=Y\" width=\"560\"/></a></figure><figcaption data-reactid=\"220\"><a class=\"textBox\" data-reactid=\"221\" href=\"https://www.siksinhot.com/P/358692\" target=\"_blank\"><h2 data-reactid=\"222\">장안아구촌</h2><span class=\"score\" data-reactid=\"223\">3.0</span></a><p class=\"cate\" data-reactid=\"224\"><a data-reactid=\"225\" href=\"/search?keywords=기장군/정관\">기장군/정관</a><!-- react-text: 226 --> / <!-- /react-text --><a data-reactid=\"227\" href=\"/search?keywords=해물탕/해물요리\">해물탕/해물요리</a></p><p class=\"counting\" data-reactid=\"228\"><img data-reactid=\"229\" src=\"/static2/images/search/img/icon_view.png\"/><span data-reactid=\"230\">8492</span><img data-reactid=\"231\" src=\"/static2/images/search/img/icon_bookmark.png\"/><span data-reactid=\"232\">3</span></p></figcaption></li>,\n",
       " <li data-reactid=\"233\"><figure data-reactid=\"234\"><a data-reactid=\"235\" href=\"https://www.siksinhot.com/P/419624\" target=\"_blank\"><img alt=\"장안해물탕 , 경남 통영시 도천상가안길 18\" data-reactid=\"236\" height=\"448\" src=\"https://img.siksinhot.com/place/1511720624402497.jpg?w=560&amp;h=448&amp;c=Y\" width=\"560\"/></a></figure><figcaption data-reactid=\"237\"><a class=\"textBox\" data-reactid=\"238\" href=\"https://www.siksinhot.com/P/419624\" target=\"_blank\"><h2 data-reactid=\"239\">장안해물탕</h2><span class=\"score\" data-reactid=\"240\">2.8</span></a><p class=\"cate\" data-reactid=\"241\"><a data-reactid=\"242\" href=\"/search?keywords=통영\">통영</a><!-- react-text: 243 --> / <!-- /react-text --><a data-reactid=\"244\" href=\"/search?keywords=해물탕/해물요리\">해물탕/해물요리</a></p><p class=\"counting\" data-reactid=\"245\"><img data-reactid=\"246\" src=\"/static2/images/search/img/icon_view.png\"/><span data-reactid=\"247\">4893</span><img data-reactid=\"248\" src=\"/static2/images/search/img/icon_bookmark.png\"/><span data-reactid=\"249\"></span></p></figcaption></li>,\n",
       " <li data-reactid=\"250\"><figure data-reactid=\"251\"><a data-reactid=\"252\" href=\"https://www.siksinhot.com/P/1084850\" target=\"_blank\"><img alt=\"제주은희네해장국 장안점 , 서울특별시 동대문구 장한로 43 \" data-reactid=\"253\" height=\"448\" src=\"https://img.siksinhot.com/place/1617763830298159.jpeg?w=560&amp;h=448&amp;c=Y\" width=\"560\"/></a></figure><figcaption data-reactid=\"254\"><a class=\"textBox\" data-reactid=\"255\" href=\"https://www.siksinhot.com/P/1084850\" target=\"_blank\"><h2 data-reactid=\"256\">제주은희네해장국 장안점</h2><span class=\"score\" data-reactid=\"257\" style=\"color:lightgrey;\">평가중</span></a><p class=\"cate\" data-reactid=\"258\"><a data-reactid=\"259\" href=\"/search?keywords=왕십리/마장/답십리\">왕십리/마장/답십리</a><!-- react-text: 260 --> / <!-- /react-text --><a data-reactid=\"261\" href=\"/search?keywords=해장국/국밥/육개장\">해장국/국밥/육개장</a></p><p class=\"counting\" data-reactid=\"262\"><img data-reactid=\"263\" src=\"/static2/images/search/img/icon_view.png\"/><span data-reactid=\"264\">1869</span><img data-reactid=\"265\" src=\"/static2/images/search/img/icon_bookmark.png\"/><span data-reactid=\"266\"></span></p></figcaption></li>,\n",
       " <li data-reactid=\"267\"><figure data-reactid=\"268\"><a data-reactid=\"269\" href=\"https://www.siksinhot.com/P/1447060\" target=\"_blank\"><img alt=\"글로리식당 장안점 , 서울특별시 동대문구 장한로24길 20 우석타운2 \" data-reactid=\"270\" height=\"448\" src=\"https://img.siksinhot.com/place/1656662535259982.jpg?w=560&amp;h=448&amp;c=Y\" width=\"560\"/></a></figure><figcaption data-reactid=\"271\"><a class=\"textBox\" data-reactid=\"272\" href=\"https://www.siksinhot.com/P/1447060\" target=\"_blank\"><h2 data-reactid=\"273\">글로리식당 장안점</h2><span class=\"score\" data-reactid=\"274\" style=\"color:lightgrey;\">평가중</span></a><p class=\"cate\" data-reactid=\"275\"><a data-reactid=\"276\" href=\"/search?keywords=왕십리/마장/답십리\">왕십리/마장/답십리</a><!-- react-text: 277 --> / <!-- /react-text --><a data-reactid=\"278\" href=\"/search?keywords=한식주점\">한식주점</a></p><p class=\"counting\" data-reactid=\"279\"><img data-reactid=\"280\" src=\"/static2/images/search/img/icon_view.png\"/><span data-reactid=\"281\">197</span><img data-reactid=\"282\" src=\"/static2/images/search/img/icon_bookmark.png\"/><span data-reactid=\"283\"></span></p></figcaption></li>,\n",
       " <li data-reactid=\"284\"><figure data-reactid=\"285\"><a data-reactid=\"286\" href=\"https://www.siksinhot.com/P/1280859\" target=\"_blank\"><img alt=\"장안라운지 , 서울특별시 동대문구 한천로2길 107 2층\" data-reactid=\"287\" height=\"448\" src=\"https://img.siksinhot.com/place/1675756856863081.jpg?w=560&amp;h=448&amp;c=Y\" width=\"560\"/></a></figure><figcaption data-reactid=\"288\"><a class=\"textBox\" data-reactid=\"289\" href=\"https://www.siksinhot.com/P/1280859\" target=\"_blank\"><h2 data-reactid=\"290\">장안라운지</h2><span class=\"score\" data-reactid=\"291\" style=\"color:lightgrey;\">평가중</span></a><p class=\"cate\" data-reactid=\"292\"><a data-reactid=\"293\" href=\"/search?keywords=왕십리/마장/답십리\">왕십리/마장/답십리</a><!-- react-text: 294 --> / <!-- /react-text --><a data-reactid=\"295\" href=\"/search?keywords=무국적 주점\">무국적 주점</a></p><p class=\"counting\" data-reactid=\"296\"><img data-reactid=\"297\" src=\"/static2/images/search/img/icon_view.png\"/><span data-reactid=\"298\">227</span><img data-reactid=\"299\" src=\"/static2/images/search/img/icon_bookmark.png\"/><span data-reactid=\"300\"></span></p></figcaption></li>,\n",
       " <li data-reactid=\"301\"><figure data-reactid=\"302\"><a data-reactid=\"303\" href=\"https://www.siksinhot.com/P/873641\" target=\"_blank\"><img alt=\"장안집 , 전라북도 임실군 오수면 오수로 140-9\" data-reactid=\"304\" height=\"448\" src=\"https://img.siksinhot.com/place/1517888783258327.jpg?w=560&amp;h=448&amp;c=Y\" width=\"560\"/></a></figure><figcaption data-reactid=\"305\"><a class=\"textBox\" data-reactid=\"306\" href=\"https://www.siksinhot.com/P/873641\" target=\"_blank\"><h2 data-reactid=\"307\">장안집</h2><span class=\"score\" data-reactid=\"308\" style=\"color:lightgrey;\">평가중</span></a><p class=\"cate\" data-reactid=\"309\"><a data-reactid=\"310\" href=\"/search?keywords=임실\">임실</a><!-- react-text: 311 --> / <!-- /react-text --><a data-reactid=\"312\" href=\"/search?keywords=해장국/국밥/육개장\">해장국/국밥/육개장</a></p><p class=\"counting\" data-reactid=\"313\"><img data-reactid=\"314\" src=\"/static2/images/search/img/icon_view.png\"/><span data-reactid=\"315\">2171</span><img data-reactid=\"316\" src=\"/static2/images/search/img/icon_bookmark.png\"/><span data-reactid=\"317\"></span></p></figcaption></li>,\n",
       " <li data-reactid=\"318\"><figure data-reactid=\"319\"><a data-reactid=\"320\" href=\"https://www.siksinhot.com/P/651224\" target=\"_blank\"><img alt=\"장안복어 , 경북 영천시 역전로 27\" data-reactid=\"321\" height=\"448\" src=\"https://img.siksinhot.com/place/1532066091108301.png?w=560&amp;h=448&amp;c=Y\" width=\"560\"/></a></figure><figcaption data-reactid=\"322\"><a class=\"textBox\" data-reactid=\"323\" href=\"https://www.siksinhot.com/P/651224\" target=\"_blank\"><h2 data-reactid=\"324\">장안복어</h2><span class=\"score\" data-reactid=\"325\" style=\"color:lightgrey;\">평가중</span></a><p class=\"cate\" data-reactid=\"326\"><a data-reactid=\"327\" href=\"/search?keywords=영천\">영천</a><!-- react-text: 328 --> / <!-- /react-text --><a data-reactid=\"329\" href=\"/search?keywords=한정식\">한정식</a></p><p class=\"counting\" data-reactid=\"330\"><img data-reactid=\"331\" src=\"/static2/images/search/img/icon_view.png\"/><span data-reactid=\"332\">3355</span><img data-reactid=\"333\" src=\"/static2/images/search/img/icon_bookmark.png\"/><span data-reactid=\"334\"></span></p></figcaption></li>,\n",
       " <li data-reactid=\"335\"><figure data-reactid=\"336\"><a data-reactid=\"337\" href=\"https://www.siksinhot.com/P/417534\" target=\"_blank\"><img alt=\"장안바다향 , 강원 속초시 먹거리4길 10\" data-reactid=\"338\" height=\"448\" src=\"https://img.siksinhot.com/place/1515766816448462.jpg?w=560&amp;h=448&amp;c=Y\" width=\"560\"/></a></figure><figcaption data-reactid=\"339\"><a class=\"textBox\" data-reactid=\"340\" href=\"https://www.siksinhot.com/P/417534\" target=\"_blank\"><h2 data-reactid=\"341\">장안바다향</h2><span class=\"score\" data-reactid=\"342\" style=\"color:lightgrey;\">평가중</span></a><p class=\"cate\" data-reactid=\"343\"><a data-reactid=\"344\" href=\"/search?keywords=속초\">속초</a><!-- react-text: 345 --> / <!-- /react-text --><a data-reactid=\"346\" href=\"/search?keywords=한정식\">한정식</a></p><p class=\"counting\" data-reactid=\"347\"><img data-reactid=\"348\" src=\"/static2/images/search/img/icon_view.png\"/><span data-reactid=\"349\">2043</span><img data-reactid=\"350\" src=\"/static2/images/search/img/icon_bookmark.png\"/><span data-reactid=\"351\"></span></p></figcaption></li>,\n",
       " <li data-reactid=\"352\"><figure data-reactid=\"353\"><a data-reactid=\"354\" href=\"https://www.siksinhot.com/P/997343\" target=\"_blank\"><img alt=\"장안성 , 서울특별시 은평구 신사동 16-15 \" data-reactid=\"355\" height=\"448\" src=\"https://img.siksinhot.com/place/1524794167802341.jpg?w=560&amp;h=448&amp;c=Y\" width=\"560\"/></a></figure><figcaption data-reactid=\"356\"><a class=\"textBox\" data-reactid=\"357\" href=\"https://www.siksinhot.com/P/997343\" target=\"_blank\"><h2 data-reactid=\"358\">장안성</h2><span class=\"score\" data-reactid=\"359\" style=\"color:lightgrey;\">평가중</span></a><p class=\"cate\" data-reactid=\"360\"><a data-reactid=\"361\" href=\"/search?keywords=가좌/수색/응암\">가좌/수색/응암</a><!-- react-text: 362 --> / <!-- /react-text --><a data-reactid=\"363\" href=\"/search?keywords=중식\">중식</a></p><p class=\"counting\" data-reactid=\"364\"><img data-reactid=\"365\" src=\"/static2/images/search/img/icon_view.png\"/><span data-reactid=\"366\">2457</span><img data-reactid=\"367\" src=\"/static2/images/search/img/icon_bookmark.png\"/><span data-reactid=\"368\"></span></p></figcaption></li>,\n",
       " <li data-reactid=\"369\"><figure data-reactid=\"370\"><a data-reactid=\"371\" href=\"https://www.siksinhot.com/P/713731\" target=\"_blank\"><img alt=\"장안평 국밥 , 광주광역시 북구 경열로 212 \" data-reactid=\"372\" height=\"448\" src=\"https://img.siksinhot.com/place/1532082805252388.jpg?w=560&amp;h=448&amp;c=Y\" width=\"560\"/></a></figure><figcaption data-reactid=\"373\"><a class=\"textBox\" data-reactid=\"374\" href=\"https://www.siksinhot.com/P/713731\" target=\"_blank\"><h2 data-reactid=\"375\">장안평 국밥</h2><span class=\"score\" data-reactid=\"376\" style=\"color:lightgrey;\">평가중</span></a><p class=\"cate\" data-reactid=\"377\"><a data-reactid=\"378\" href=\"/search?keywords=북구-유동/신안\">북구-유동/신안</a><!-- react-text: 379 --> / <!-- /react-text --><a data-reactid=\"380\" href=\"/search?keywords=해장국/국밥/육개장\">해장국/국밥/육개장</a></p><p class=\"counting\" data-reactid=\"381\"><img data-reactid=\"382\" src=\"/static2/images/search/img/icon_view.png\"/><span data-reactid=\"383\">1399</span><img data-reactid=\"384\" src=\"/static2/images/search/img/icon_bookmark.png\"/><span data-reactid=\"385\"></span></p></figcaption></li>,\n",
       " <li data-reactid=\"386\"><figure data-reactid=\"387\"><a data-reactid=\"388\" href=\"https://www.siksinhot.com/P/684699\" target=\"_blank\"><img alt=\"장안식당 , 전라남도 함평군 나산길 73 풍년농약사 \" data-reactid=\"389\" height=\"448\" src=\"https://img.siksinhot.com/place/1517976871080658.jpg?w=560&amp;h=448&amp;c=Y\" width=\"560\"/></a></figure><figcaption data-reactid=\"390\"><a class=\"textBox\" data-reactid=\"391\" href=\"https://www.siksinhot.com/P/684699\" target=\"_blank\"><h2 data-reactid=\"392\">장안식당</h2><span class=\"score\" data-reactid=\"393\" style=\"color:lightgrey;\">평가중</span></a><p class=\"cate\" data-reactid=\"394\"><a data-reactid=\"395\" href=\"/search?keywords=함평\">함평</a><!-- react-text: 396 --> / <!-- /react-text --><a data-reactid=\"397\" href=\"/search?keywords=중식\">중식</a></p><p class=\"counting\" data-reactid=\"398\"><img data-reactid=\"399\" src=\"/static2/images/search/img/icon_view.png\"/><span data-reactid=\"400\">1589</span><img data-reactid=\"401\" src=\"/static2/images/search/img/icon_bookmark.png\"/><span data-reactid=\"402\"></span></p></figcaption></li>]"
      ]
     },
     "execution_count": 45,
     "metadata": {},
     "output_type": "execute_result"
    }
   ],
   "source": [
    "# lis = soup.select_one('.localFood_list > li').find_all('li')\n",
    "lis = soup.select('.localFood_list > li')\n",
    "lis"
   ]
  },
  {
   "attachments": {},
   "cell_type": "markdown",
   "metadata": {},
   "source": [
    "##### 3. 하나를 선택해서 원하는 정보 추출"
   ]
  },
  {
   "cell_type": "code",
   "execution_count": 46,
   "metadata": {},
   "outputs": [
    {
     "data": {
      "text/plain": [
       "'https://img.siksinhot.com/place/1374703567238427.png?w=560&h=448&c=Y'"
      ]
     },
     "execution_count": 46,
     "metadata": {},
     "output_type": "execute_result"
    }
   ],
   "source": [
    "li = lis[0]\n",
    "img = li.find('img')['src']\n",
    "img"
   ]
  },
  {
   "cell_type": "code",
   "execution_count": 47,
   "metadata": {},
   "outputs": [],
   "source": [
    "# 업소명, 평점\n",
    "title = li.select_one('.textBox > h2').get_text()\n",
    "score = li.select_one('.textBox > span').get_text()"
   ]
  },
  {
   "cell_type": "code",
   "execution_count": 48,
   "metadata": {},
   "outputs": [
    {
     "data": {
      "text/plain": [
       "[<a data-reactid=\"67\" href=\"/search?keywords=시청\">시청</a>,\n",
       " <a data-reactid=\"69\" href=\"/search?keywords=돼지갈비\">돼지갈비</a>]"
      ]
     },
     "execution_count": 48,
     "metadata": {},
     "output_type": "execute_result"
    }
   ],
   "source": [
    "# 위치, 메뉴\n",
    "atags = li.select('.cate > a')\n",
    "atags"
   ]
  },
  {
   "cell_type": "code",
   "execution_count": 49,
   "metadata": {},
   "outputs": [
    {
     "data": {
      "text/plain": [
       "('시청', '돼지갈비')"
      ]
     },
     "execution_count": 49,
     "metadata": {},
     "output_type": "execute_result"
    }
   ],
   "source": [
    "loc = atags[0].get_text()\n",
    "menu = atags[1].get_text()\n",
    "loc, menu"
   ]
  },
  {
   "cell_type": "code",
   "execution_count": 51,
   "metadata": {},
   "outputs": [
    {
     "data": {
      "text/html": [
       "<div>\n",
       "<style scoped>\n",
       "    .dataframe tbody tr th:only-of-type {\n",
       "        vertical-align: middle;\n",
       "    }\n",
       "\n",
       "    .dataframe tbody tr th {\n",
       "        vertical-align: top;\n",
       "    }\n",
       "\n",
       "    .dataframe thead th {\n",
       "        text-align: right;\n",
       "    }\n",
       "</style>\n",
       "<table border=\"1\" class=\"dataframe\">\n",
       "  <thead>\n",
       "    <tr style=\"text-align: right;\">\n",
       "      <th></th>\n",
       "      <th>img</th>\n",
       "      <th>title</th>\n",
       "      <th>score</th>\n",
       "      <th>loc</th>\n",
       "      <th>menu</th>\n",
       "    </tr>\n",
       "  </thead>\n",
       "  <tbody>\n",
       "    <tr>\n",
       "      <th>0</th>\n",
       "      <td>https://img.siksinhot.com/place/13747035672384...</td>\n",
       "      <td>장안문</td>\n",
       "      <td>3.5</td>\n",
       "      <td>시청</td>\n",
       "      <td>돼지갈비</td>\n",
       "    </tr>\n",
       "    <tr>\n",
       "      <th>1</th>\n",
       "      <td>https://img.siksinhot.com/place/14576724616075...</td>\n",
       "      <td>장안통닭</td>\n",
       "      <td>4.2</td>\n",
       "      <td>수원-팔달구/인계/행궁</td>\n",
       "      <td>치킨/통닭</td>\n",
       "    </tr>\n",
       "    <tr>\n",
       "      <th>2</th>\n",
       "      <td>https://img.siksinhot.com/place/14168290359781...</td>\n",
       "      <td>장안식당</td>\n",
       "      <td>3.7</td>\n",
       "      <td>함평</td>\n",
       "      <td>곱창/대창</td>\n",
       "    </tr>\n",
       "    <tr>\n",
       "      <th>3</th>\n",
       "      <td>https://img.siksinhot.com/place/13594443896888...</td>\n",
       "      <td>장안사 산장</td>\n",
       "      <td>3.5</td>\n",
       "      <td>기장군/정관</td>\n",
       "      <td>삼계탕/백숙/찜닭</td>\n",
       "    </tr>\n",
       "    <tr>\n",
       "      <th>4</th>\n",
       "      <td>https://img.siksinhot.com/place/16099132855466...</td>\n",
       "      <td>장안정</td>\n",
       "      <td>3.7</td>\n",
       "      <td>왕십리/마장/답십리</td>\n",
       "      <td>경양식/돈가스</td>\n",
       "    </tr>\n",
       "    <tr>\n",
       "      <th>5</th>\n",
       "      <td>https://img.siksinhot.com/place/14640787918984...</td>\n",
       "      <td>장안횟집</td>\n",
       "      <td>3.5</td>\n",
       "      <td>강릉시</td>\n",
       "      <td>회/횟집/참치</td>\n",
       "    </tr>\n",
       "    <tr>\n",
       "      <th>6</th>\n",
       "      <td>https://img.siksinhot.com/place/15058927427102...</td>\n",
       "      <td>장안민물장어</td>\n",
       "      <td>4.3</td>\n",
       "      <td>기장군/정관</td>\n",
       "      <td>장어/꼼장어</td>\n",
       "    </tr>\n",
       "    <tr>\n",
       "      <th>7</th>\n",
       "      <td>https://img.siksinhot.com/place/14771561662543...</td>\n",
       "      <td>장안설렁탕</td>\n",
       "      <td>2.1</td>\n",
       "      <td>왕십리/마장/답십리</td>\n",
       "      <td>설렁탕/곰탕/갈비탕</td>\n",
       "    </tr>\n",
       "    <tr>\n",
       "      <th>8</th>\n",
       "      <td>https://img.siksinhot.com/place/16287539479056...</td>\n",
       "      <td>장안삼계탕</td>\n",
       "      <td>3.1</td>\n",
       "      <td>시청</td>\n",
       "      <td>삼계탕/백숙/찜닭</td>\n",
       "    </tr>\n",
       "    <tr>\n",
       "      <th>9</th>\n",
       "      <td>https://img.siksinhot.com/place/14315472041328...</td>\n",
       "      <td>장안아구촌</td>\n",
       "      <td>3.0</td>\n",
       "      <td>기장군/정관</td>\n",
       "      <td>해물탕/해물요리</td>\n",
       "    </tr>\n",
       "    <tr>\n",
       "      <th>10</th>\n",
       "      <td>https://img.siksinhot.com/place/15117206244024...</td>\n",
       "      <td>장안해물탕</td>\n",
       "      <td>2.8</td>\n",
       "      <td>통영</td>\n",
       "      <td>해물탕/해물요리</td>\n",
       "    </tr>\n",
       "    <tr>\n",
       "      <th>11</th>\n",
       "      <td>https://img.siksinhot.com/place/16177638302981...</td>\n",
       "      <td>제주은희네해장국 장안점</td>\n",
       "      <td>평가중</td>\n",
       "      <td>왕십리/마장/답십리</td>\n",
       "      <td>해장국/국밥/육개장</td>\n",
       "    </tr>\n",
       "    <tr>\n",
       "      <th>12</th>\n",
       "      <td>https://img.siksinhot.com/place/16566625352599...</td>\n",
       "      <td>글로리식당 장안점</td>\n",
       "      <td>평가중</td>\n",
       "      <td>왕십리/마장/답십리</td>\n",
       "      <td>한식주점</td>\n",
       "    </tr>\n",
       "    <tr>\n",
       "      <th>13</th>\n",
       "      <td>https://img.siksinhot.com/place/16757568568630...</td>\n",
       "      <td>장안라운지</td>\n",
       "      <td>평가중</td>\n",
       "      <td>왕십리/마장/답십리</td>\n",
       "      <td>무국적 주점</td>\n",
       "    </tr>\n",
       "    <tr>\n",
       "      <th>14</th>\n",
       "      <td>https://img.siksinhot.com/place/15178887832583...</td>\n",
       "      <td>장안집</td>\n",
       "      <td>평가중</td>\n",
       "      <td>임실</td>\n",
       "      <td>해장국/국밥/육개장</td>\n",
       "    </tr>\n",
       "    <tr>\n",
       "      <th>15</th>\n",
       "      <td>https://img.siksinhot.com/place/15320660911083...</td>\n",
       "      <td>장안복어</td>\n",
       "      <td>평가중</td>\n",
       "      <td>영천</td>\n",
       "      <td>한정식</td>\n",
       "    </tr>\n",
       "    <tr>\n",
       "      <th>16</th>\n",
       "      <td>https://img.siksinhot.com/place/15157668164484...</td>\n",
       "      <td>장안바다향</td>\n",
       "      <td>평가중</td>\n",
       "      <td>속초</td>\n",
       "      <td>한정식</td>\n",
       "    </tr>\n",
       "    <tr>\n",
       "      <th>17</th>\n",
       "      <td>https://img.siksinhot.com/place/15247941678023...</td>\n",
       "      <td>장안성</td>\n",
       "      <td>평가중</td>\n",
       "      <td>가좌/수색/응암</td>\n",
       "      <td>중식</td>\n",
       "    </tr>\n",
       "    <tr>\n",
       "      <th>18</th>\n",
       "      <td>https://img.siksinhot.com/place/15320828052523...</td>\n",
       "      <td>장안평 국밥</td>\n",
       "      <td>평가중</td>\n",
       "      <td>북구-유동/신안</td>\n",
       "      <td>해장국/국밥/육개장</td>\n",
       "    </tr>\n",
       "    <tr>\n",
       "      <th>19</th>\n",
       "      <td>https://img.siksinhot.com/place/15179768710806...</td>\n",
       "      <td>장안식당</td>\n",
       "      <td>평가중</td>\n",
       "      <td>함평</td>\n",
       "      <td>중식</td>\n",
       "    </tr>\n",
       "  </tbody>\n",
       "</table>\n",
       "</div>"
      ],
      "text/plain": [
       "                                                  img         title score  \\\n",
       "0   https://img.siksinhot.com/place/13747035672384...           장안문   3.5   \n",
       "1   https://img.siksinhot.com/place/14576724616075...          장안통닭   4.2   \n",
       "2   https://img.siksinhot.com/place/14168290359781...          장안식당   3.7   \n",
       "3   https://img.siksinhot.com/place/13594443896888...        장안사 산장   3.5   \n",
       "4   https://img.siksinhot.com/place/16099132855466...           장안정   3.7   \n",
       "5   https://img.siksinhot.com/place/14640787918984...          장안횟집   3.5   \n",
       "6   https://img.siksinhot.com/place/15058927427102...        장안민물장어   4.3   \n",
       "7   https://img.siksinhot.com/place/14771561662543...         장안설렁탕   2.1   \n",
       "8   https://img.siksinhot.com/place/16287539479056...        장안삼계탕    3.1   \n",
       "9   https://img.siksinhot.com/place/14315472041328...         장안아구촌   3.0   \n",
       "10  https://img.siksinhot.com/place/15117206244024...         장안해물탕   2.8   \n",
       "11  https://img.siksinhot.com/place/16177638302981...  제주은희네해장국 장안점   평가중   \n",
       "12  https://img.siksinhot.com/place/16566625352599...     글로리식당 장안점   평가중   \n",
       "13  https://img.siksinhot.com/place/16757568568630...         장안라운지   평가중   \n",
       "14  https://img.siksinhot.com/place/15178887832583...           장안집   평가중   \n",
       "15  https://img.siksinhot.com/place/15320660911083...          장안복어   평가중   \n",
       "16  https://img.siksinhot.com/place/15157668164484...         장안바다향   평가중   \n",
       "17  https://img.siksinhot.com/place/15247941678023...           장안성   평가중   \n",
       "18  https://img.siksinhot.com/place/15320828052523...        장안평 국밥   평가중   \n",
       "19  https://img.siksinhot.com/place/15179768710806...          장안식당   평가중   \n",
       "\n",
       "             loc        menu  \n",
       "0             시청        돼지갈비  \n",
       "1   수원-팔달구/인계/행궁       치킨/통닭  \n",
       "2             함평       곱창/대창  \n",
       "3         기장군/정관   삼계탕/백숙/찜닭  \n",
       "4     왕십리/마장/답십리     경양식/돈가스  \n",
       "5            강릉시     회/횟집/참치  \n",
       "6         기장군/정관      장어/꼼장어  \n",
       "7     왕십리/마장/답십리  설렁탕/곰탕/갈비탕  \n",
       "8             시청   삼계탕/백숙/찜닭  \n",
       "9         기장군/정관    해물탕/해물요리  \n",
       "10            통영    해물탕/해물요리  \n",
       "11    왕십리/마장/답십리  해장국/국밥/육개장  \n",
       "12    왕십리/마장/답십리        한식주점  \n",
       "13    왕십리/마장/답십리      무국적 주점  \n",
       "14            임실  해장국/국밥/육개장  \n",
       "15            영천         한정식  \n",
       "16            속초         한정식  \n",
       "17      가좌/수색/응암          중식  \n",
       "18      북구-유동/신안  해장국/국밥/육개장  \n",
       "19            함평          중식  "
      ]
     },
     "execution_count": 51,
     "metadata": {},
     "output_type": "execute_result"
    }
   ],
   "source": [
    "temp = []\n",
    "for li in lis:\n",
    "    img = li.find('img')['src']\n",
    "    title = li.select_one('.textBox > h2').get_text()\n",
    "    score = li.select_one('.textBox > span').get_text()\n",
    "    atags = li.select('.cate > a')\n",
    "    loc = atags[0].get_text()\n",
    "    menu = atags[1].get_text()\n",
    "    temp.append({'img': img, 'title': title, 'score': score, 'loc': loc, 'menu': menu})\n",
    "pd.DataFrame(temp)"
   ]
  },
  {
   "attachments": {},
   "cell_type": "markdown",
   "metadata": {},
   "source": [
    "#### 5. 오류 발생 - 오류 해결"
   ]
  },
  {
   "attachments": {},
   "cell_type": "markdown",
   "metadata": {},
   "source": [
    "#### 6. 모든페이지에 대해 반복하기"
   ]
  },
  {
   "attachments": {},
   "cell_type": "markdown",
   "metadata": {},
   "source": [
    "#### 7. 데이터 프레임으로 만들기"
   ]
  },
  {
   "cell_type": "code",
   "execution_count": null,
   "metadata": {},
   "outputs": [],
   "source": []
  }
 ],
 "metadata": {
  "kernelspec": {
   "display_name": "base",
   "language": "python",
   "name": "python3"
  },
  "language_info": {
   "codemirror_mode": {
    "name": "ipython",
    "version": 3
   },
   "file_extension": ".py",
   "mimetype": "text/x-python",
   "name": "python",
   "nbconvert_exporter": "python",
   "pygments_lexer": "ipython3",
   "version": "3.10.9"
  },
  "orig_nbformat": 4
 },
 "nbformat": 4,
 "nbformat_minor": 2
}
