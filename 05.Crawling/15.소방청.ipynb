{
 "cells": [
  {
   "attachments": {},
   "cell_type": "markdown",
   "metadata": {},
   "source": [
    "### 소방청 - 경기도 소방기관 추출"
   ]
  },
  {
   "cell_type": "code",
   "execution_count": 33,
   "metadata": {},
   "outputs": [],
   "source": [
    "import time\n",
    "import pandas as pd\n",
    "from selenium import webdriver\n",
    "from selenium.webdriver.common.by import By\n",
    "from selenium.webdriver.common.keys import Keys\n",
    "from bs4 import BeautifulSoup\n",
    "import warnings"
   ]
  },
  {
   "cell_type": "code",
   "execution_count": 34,
   "metadata": {},
   "outputs": [],
   "source": [
    "warnings.filterwarnings('ignore')\n",
    "\n",
    "url = 'https://www.nfa.go.kr/nfa/introduce/status/firestationidfo/?searchDistance=10&searchMode=distance&myX=37.2967198&myY=127.0078127&searchKeyword='\n",
    "driver = webdriver.Chrome('C:/Users/YONSAI/Desktop/chromedriver_win32/chromedriver.exe')\n",
    "driver.get(url)"
   ]
  },
  {
   "cell_type": "code",
   "execution_count": 35,
   "metadata": {},
   "outputs": [],
   "source": [
    "# 검색 입력상자 찾아서 경기도 입력\n",
    "driver.find_element(By.ID, 'searchKeyword').send_keys('경기도')"
   ]
  },
  {
   "cell_type": "code",
   "execution_count": 36,
   "metadata": {},
   "outputs": [],
   "source": [
    "# 검색 버튼 찾아서 클릭\n",
    "driver.find_element(By.ID, 'fsSearchBtn').click()"
   ]
  },
  {
   "cell_type": "code",
   "execution_count": 37,
   "metadata": {},
   "outputs": [
    {
     "data": {
      "text/plain": [
       "10"
      ]
     },
     "execution_count": 37,
     "metadata": {},
     "output_type": "execute_result"
    }
   ],
   "source": [
    "# 페이지 이동해서 HTML 코드를 BeautifulSoup으로 parsing\n",
    "soup = BeautifulSoup(driver.page_source, 'html.parser')\n",
    "lis = soup.select('.stations-list > li')\n",
    "len(lis)"
   ]
  },
  {
   "cell_type": "code",
   "execution_count": 38,
   "metadata": {},
   "outputs": [],
   "source": [
    "li = lis[0]"
   ]
  },
  {
   "cell_type": "code",
   "execution_count": 39,
   "metadata": {},
   "outputs": [
    {
     "data": {
      "text/plain": [
       "'군포소방서-송정-119 안전센터'"
      ]
     },
     "execution_count": 39,
     "metadata": {},
     "output_type": "execute_result"
    }
   ],
   "source": [
    "name = li.select_one('.title').get_text().strip()\n",
    "name"
   ]
  },
  {
   "cell_type": "code",
   "execution_count": 40,
   "metadata": {},
   "outputs": [
    {
     "data": {
      "text/plain": [
       "'경기도 군포시 산본동1156'"
      ]
     },
     "execution_count": 40,
     "metadata": {},
     "output_type": "execute_result"
    }
   ],
   "source": [
    "addr = li.select_one('address').get_text().strip()\n",
    "addr"
   ]
  },
  {
   "cell_type": "code",
   "execution_count": 41,
   "metadata": {},
   "outputs": [
    {
     "data": {
      "text/plain": [
       "'031-479-8503'"
      ]
     },
     "execution_count": 41,
     "metadata": {},
     "output_type": "execute_result"
    }
   ],
   "source": [
    "tel = li.select_one('.tel').get_text().strip()\n",
    "tel"
   ]
  },
  {
   "cell_type": "code",
   "execution_count": 42,
   "metadata": {},
   "outputs": [
    {
     "data": {
      "text/plain": [
       "[{'소방서명': '군포소방서-송정-119 안전센터',\n",
       "  '주소': '경기도 군포시 산본동1156',\n",
       "  '전화번호': '031-479-8503'},\n",
       " {'소방서명': '부천소방서-원종-119 안전센터',\n",
       "  '주소': '경기도 부천시 원종로79번길 41 (원종동)',\n",
       "  '전화번호': '032-650-4554'},\n",
       " {'소방서명': '부천소방서-괴안-119 안전센터',\n",
       "  '주소': '경기도 부천시 부광로8번길 49 (괴안동)',\n",
       "  '전화번호': '032-650-4544'},\n",
       " {'소방서명': '부천소방서-중동-119 안전센터',\n",
       "  '주소': '경기도 부천시 부일로 346 (중동)',\n",
       "  '전화번호': '032-650-4534'},\n",
       " {'소방서명': '부천소방서-내동-119 안전센터',\n",
       "  '주소': '경기도 부천시 신흥로 364 (내동)',\n",
       "  '전화번호': '032-650-4524'},\n",
       " {'소방서명': '부천소방서-중앙-119 안전센터',\n",
       "  '주소': '경기도 부천시 신흥로 115 (중동)',\n",
       "  '전화번호': '032-650-4504'},\n",
       " {'소방서명': '분당소방서-구미-119 안전센터',\n",
       "  '주소': '경기도 성남시 분당구 돌마로 138 (구미동)',\n",
       "  '전화번호': '031-8018-3551'},\n",
       " {'소방서명': '분당소방서-야탑-119 안전센터',\n",
       "  '주소': '경기도 성남시 분당구 양현로 485 (야탑4동)',\n",
       "  '전화번호': '031-8018-3531'},\n",
       " {'소방서명': '분당소방서-수내-119 안전센터',\n",
       "  '주소': '경기도 성남시 분당구 백현로 241 (수내동)',\n",
       "  '전화번호': '031-8018-3521'},\n",
       " {'소방서명': '분당소방서-판교-119 안전센터',\n",
       "  '주소': '경기도 성남시 분당구 대왕판교로644번길 62 (삼평동)',\n",
       "  '전화번호': '031-8018-3511'}]"
      ]
     },
     "execution_count": 42,
     "metadata": {},
     "output_type": "execute_result"
    }
   ],
   "source": [
    "temp = []\n",
    "for li in lis:\n",
    "    name = li.select_one('.title').get_text().strip()\n",
    "    addr = li.select_one('address').get_text().strip()\n",
    "    tel = li.select_one('.tel').get_text().strip()\n",
    "    temp.append({'소방서명':name, '주소':addr, '전화번호':tel})\n",
    "temp"
   ]
  },
  {
   "cell_type": "code",
   "execution_count": 43,
   "metadata": {},
   "outputs": [
    {
     "data": {
      "text/html": [
       "<div>\n",
       "<style scoped>\n",
       "    .dataframe tbody tr th:only-of-type {\n",
       "        vertical-align: middle;\n",
       "    }\n",
       "\n",
       "    .dataframe tbody tr th {\n",
       "        vertical-align: top;\n",
       "    }\n",
       "\n",
       "    .dataframe thead th {\n",
       "        text-align: right;\n",
       "    }\n",
       "</style>\n",
       "<table border=\"1\" class=\"dataframe\">\n",
       "  <thead>\n",
       "    <tr style=\"text-align: right;\">\n",
       "      <th></th>\n",
       "      <th>소방서명</th>\n",
       "      <th>주소</th>\n",
       "      <th>전화번호</th>\n",
       "    </tr>\n",
       "  </thead>\n",
       "  <tbody>\n",
       "    <tr>\n",
       "      <th>0</th>\n",
       "      <td>군포소방서-송정-119 안전센터</td>\n",
       "      <td>경기도 군포시 산본동1156</td>\n",
       "      <td>031-479-8503</td>\n",
       "    </tr>\n",
       "    <tr>\n",
       "      <th>1</th>\n",
       "      <td>부천소방서-원종-119 안전센터</td>\n",
       "      <td>경기도 부천시 원종로79번길 41 (원종동)</td>\n",
       "      <td>032-650-4554</td>\n",
       "    </tr>\n",
       "    <tr>\n",
       "      <th>2</th>\n",
       "      <td>부천소방서-괴안-119 안전센터</td>\n",
       "      <td>경기도 부천시 부광로8번길 49 (괴안동)</td>\n",
       "      <td>032-650-4544</td>\n",
       "    </tr>\n",
       "    <tr>\n",
       "      <th>3</th>\n",
       "      <td>부천소방서-중동-119 안전센터</td>\n",
       "      <td>경기도 부천시 부일로 346 (중동)</td>\n",
       "      <td>032-650-4534</td>\n",
       "    </tr>\n",
       "    <tr>\n",
       "      <th>4</th>\n",
       "      <td>부천소방서-내동-119 안전센터</td>\n",
       "      <td>경기도 부천시 신흥로 364 (내동)</td>\n",
       "      <td>032-650-4524</td>\n",
       "    </tr>\n",
       "    <tr>\n",
       "      <th>5</th>\n",
       "      <td>부천소방서-중앙-119 안전센터</td>\n",
       "      <td>경기도 부천시 신흥로 115 (중동)</td>\n",
       "      <td>032-650-4504</td>\n",
       "    </tr>\n",
       "    <tr>\n",
       "      <th>6</th>\n",
       "      <td>분당소방서-구미-119 안전센터</td>\n",
       "      <td>경기도 성남시 분당구 돌마로 138 (구미동)</td>\n",
       "      <td>031-8018-3551</td>\n",
       "    </tr>\n",
       "    <tr>\n",
       "      <th>7</th>\n",
       "      <td>분당소방서-야탑-119 안전센터</td>\n",
       "      <td>경기도 성남시 분당구 양현로 485 (야탑4동)</td>\n",
       "      <td>031-8018-3531</td>\n",
       "    </tr>\n",
       "    <tr>\n",
       "      <th>8</th>\n",
       "      <td>분당소방서-수내-119 안전센터</td>\n",
       "      <td>경기도 성남시 분당구 백현로 241 (수내동)</td>\n",
       "      <td>031-8018-3521</td>\n",
       "    </tr>\n",
       "    <tr>\n",
       "      <th>9</th>\n",
       "      <td>분당소방서-판교-119 안전센터</td>\n",
       "      <td>경기도 성남시 분당구 대왕판교로644번길 62 (삼평동)</td>\n",
       "      <td>031-8018-3511</td>\n",
       "    </tr>\n",
       "  </tbody>\n",
       "</table>\n",
       "</div>"
      ],
      "text/plain": [
       "                소방서명                               주소           전화번호\n",
       "0  군포소방서-송정-119 안전센터                  경기도 군포시 산본동1156   031-479-8503\n",
       "1  부천소방서-원종-119 안전센터         경기도 부천시 원종로79번길 41 (원종동)   032-650-4554\n",
       "2  부천소방서-괴안-119 안전센터          경기도 부천시 부광로8번길 49 (괴안동)   032-650-4544\n",
       "3  부천소방서-중동-119 안전센터             경기도 부천시 부일로 346 (중동)   032-650-4534\n",
       "4  부천소방서-내동-119 안전센터             경기도 부천시 신흥로 364 (내동)   032-650-4524\n",
       "5  부천소방서-중앙-119 안전센터             경기도 부천시 신흥로 115 (중동)   032-650-4504\n",
       "6  분당소방서-구미-119 안전센터        경기도 성남시 분당구 돌마로 138 (구미동)  031-8018-3551\n",
       "7  분당소방서-야탑-119 안전센터       경기도 성남시 분당구 양현로 485 (야탑4동)  031-8018-3531\n",
       "8  분당소방서-수내-119 안전센터        경기도 성남시 분당구 백현로 241 (수내동)  031-8018-3521\n",
       "9  분당소방서-판교-119 안전센터  경기도 성남시 분당구 대왕판교로644번길 62 (삼평동)  031-8018-3511"
      ]
     },
     "execution_count": 43,
     "metadata": {},
     "output_type": "execute_result"
    }
   ],
   "source": [
    "df = pd.DataFrame(temp)\n",
    "df"
   ]
  },
  {
   "attachments": {},
   "cell_type": "markdown",
   "metadata": {},
   "source": [
    "- 두번째 페이지로 이동"
   ]
  },
  {
   "cell_type": "code",
   "execution_count": 44,
   "metadata": {},
   "outputs": [],
   "source": [
    "# //*[@id=\"listForm\"]/div/section/ul/li[1]/div/div/ul/li[4]/a << Xpath\n",
    "driver.find_element(By.XPATH, '//*[@id=\"listForm\"]/div/section/ul/li[1]/div/div/ul/li[4]/a').click()"
   ]
  },
  {
   "attachments": {},
   "cell_type": "markdown",
   "metadata": {},
   "source": [
    "- next(>) 페이지로 이동"
   ]
  },
  {
   "cell_type": "code",
   "execution_count": 45,
   "metadata": {},
   "outputs": [],
   "source": [
    "driver.find_element(By.CLASS_NAME, 'next_page').click()"
   ]
  },
  {
   "attachments": {},
   "cell_type": "markdown",
   "metadata": {},
   "source": [
    "- 모든 페이지에 적용, 페이지이동은 Selenium으로"
   ]
  },
  {
   "cell_type": "code",
   "execution_count": 46,
   "metadata": {},
   "outputs": [],
   "source": [
    "# 첫번째 페이지\n",
    "url = 'https://www.nfa.go.kr/nfa/introduce/status/firestationidfo/?searchDistance=10&searchMode=distance&myX=37.2967198&myY=127.0078127&searchKeyword='\n",
    "time.sleep(1)\n",
    "driver = webdriver.Chrome('C:/Users/YONSAI/Desktop/chromedriver_win32/chromedriver.exe')\n",
    "driver.get(url)"
   ]
  },
  {
   "cell_type": "code",
   "execution_count": 47,
   "metadata": {},
   "outputs": [
    {
     "data": {
      "text/plain": [
       "10"
      ]
     },
     "execution_count": 47,
     "metadata": {},
     "output_type": "execute_result"
    }
   ],
   "source": [
    "# 검색 입력상자 찾아서 경기도 입력\n",
    "driver.find_element(By.ID, 'searchKeyword').send_keys('경기도')\n",
    "# 검색 버튼 찾아서 클릭\n",
    "driver.find_element(By.ID, 'fsSearchBtn').click()\n",
    "\n",
    "len(lis)"
   ]
  },
  {
   "cell_type": "code",
   "execution_count": 48,
   "metadata": {},
   "outputs": [
    {
     "data": {
      "text/plain": [
       "100"
      ]
     },
     "execution_count": 48,
     "metadata": {},
     "output_type": "execute_result"
    }
   ],
   "source": [
    "# 검색결과 건수 확인, 페이지수 예측\n",
    "count = int(driver.find_element(By.XPATH, '//*[@id=\"listForm\"]/div/section/div/p/strong[2]').text[:-1])\n",
    "count"
   ]
  },
  {
   "cell_type": "code",
   "execution_count": 49,
   "metadata": {},
   "outputs": [],
   "source": [
    "temp = []\n",
    "import math\n",
    "driver.find_element(By.XPATH, '//*[@id=\"listForm\"]/div/section/ul/li[1]/div/div/ul/li[4]/a').click()\n",
    "\n",
    "for i in range(int(math.ceil(count/10))):\n",
    "    if i % 2 == 1:\n",
    "        driver.find_element(By.XPATH, '//*[@id=\"listForm\"]/div/section/ul/li[1]/div/div/ul/li[4]/a').click()\n",
    "        time.sleep(2)\n",
    "    elif i > 0 and i % 2 == 0:\n",
    "        driver.find_element(By.CLASS_NAME, 'next_page').click()\n",
    "        time.sleep(2)\n",
    "    soup = BeautifulSoup(driver.page_source, 'html.parser')\n",
    "    lis = soup.select('.stations-list > li')\n",
    "    for li in lis:\n",
    "        name = li.select_one('.title').get_text().strip()\n",
    "        addr = li.select_one('address').get_text().strip()\n",
    "        tel = li.select_one('.tel').get_text().strip()\n",
    "        temp.append({'관서명':name, '주소':addr, '전화번호':tel})\n",
    "        \n",
    "driver.close()    "
   ]
  },
  {
   "cell_type": "code",
   "execution_count": 63,
   "metadata": {},
   "outputs": [
    {
     "data": {
      "text/html": [
       "<div>\n",
       "<style scoped>\n",
       "    .dataframe tbody tr th:only-of-type {\n",
       "        vertical-align: middle;\n",
       "    }\n",
       "\n",
       "    .dataframe tbody tr th {\n",
       "        vertical-align: top;\n",
       "    }\n",
       "\n",
       "    .dataframe thead th {\n",
       "        text-align: right;\n",
       "    }\n",
       "</style>\n",
       "<table border=\"1\" class=\"dataframe\">\n",
       "  <thead>\n",
       "    <tr style=\"text-align: right;\">\n",
       "      <th></th>\n",
       "      <th>관서명</th>\n",
       "      <th>주소</th>\n",
       "      <th>전화번호</th>\n",
       "    </tr>\n",
       "  </thead>\n",
       "  <tbody>\n",
       "    <tr>\n",
       "      <th>30</th>\n",
       "      <td>군포소방서-오금-119 안전센터</td>\n",
       "      <td>경기도 군포시 고산로 429 (산본동)</td>\n",
       "      <td>031-479-8505</td>\n",
       "    </tr>\n",
       "    <tr>\n",
       "      <th>31</th>\n",
       "      <td>시흥소방서-연성-119 안전센터</td>\n",
       "      <td>경기도 시흥시 새재로 29 (장현동)</td>\n",
       "      <td>031-310-0531</td>\n",
       "    </tr>\n",
       "    <tr>\n",
       "      <th>32</th>\n",
       "      <td>시흥소방서-정왕-119 안전센터</td>\n",
       "      <td>경기도 시흥시 공단1대로 259번길 1 (정왕동)</td>\n",
       "      <td>031-310-0521</td>\n",
       "    </tr>\n",
       "    <tr>\n",
       "      <th>33</th>\n",
       "      <td>시흥소방서-시흥-119 안전센터</td>\n",
       "      <td>경기도 시흥시 정왕신길로 206 (정왕동)</td>\n",
       "      <td>031-310-0501</td>\n",
       "    </tr>\n",
       "    <tr>\n",
       "      <th>34</th>\n",
       "      <td>광명소방서-광남-119 안전센터</td>\n",
       "      <td>경기도 광명시 목감로 34 (광명동)</td>\n",
       "      <td>031-2610-3530</td>\n",
       "    </tr>\n",
       "    <tr>\n",
       "      <th>35</th>\n",
       "      <td>광명소방서-하안-119 안전센터</td>\n",
       "      <td>경기도 광명시 범안로 1025 (하안동)</td>\n",
       "      <td>031-2610-3520</td>\n",
       "    </tr>\n",
       "    <tr>\n",
       "      <th>36</th>\n",
       "      <td>광명소방서-광명-119 안전센터</td>\n",
       "      <td>경기도 광명시 사성로 12 (광명동)</td>\n",
       "      <td>031-2610-3510</td>\n",
       "    </tr>\n",
       "    <tr>\n",
       "      <th>37</th>\n",
       "      <td>광명소방서-소하-119 안전센터</td>\n",
       "      <td>경기도 광명시 금하로 472 (소하동)</td>\n",
       "      <td>031-2610-3500</td>\n",
       "    </tr>\n",
       "    <tr>\n",
       "      <th>38</th>\n",
       "      <td>송탄소방서-청북-119 안전센터</td>\n",
       "      <td>경기도 평택시 청북면 현곡산단로 16</td>\n",
       "      <td>031-685-8550</td>\n",
       "    </tr>\n",
       "    <tr>\n",
       "      <th>39</th>\n",
       "      <td>송탄소방서-고덕-119 안전센터</td>\n",
       "      <td>경기도 평택시 고덕면 고덕로 335</td>\n",
       "      <td>031-695-8540</td>\n",
       "    </tr>\n",
       "  </tbody>\n",
       "</table>\n",
       "</div>"
      ],
      "text/plain": [
       "                  관서명                           주소           전화번호\n",
       "30  군포소방서-오금-119 안전센터        경기도 군포시 고산로 429 (산본동)   031-479-8505\n",
       "31  시흥소방서-연성-119 안전센터         경기도 시흥시 새재로 29 (장현동)   031-310-0531\n",
       "32  시흥소방서-정왕-119 안전센터  경기도 시흥시 공단1대로 259번길 1 (정왕동)   031-310-0521\n",
       "33  시흥소방서-시흥-119 안전센터      경기도 시흥시 정왕신길로 206 (정왕동)   031-310-0501\n",
       "34  광명소방서-광남-119 안전센터         경기도 광명시 목감로 34 (광명동)  031-2610-3530\n",
       "35  광명소방서-하안-119 안전센터       경기도 광명시 범안로 1025 (하안동)  031-2610-3520\n",
       "36  광명소방서-광명-119 안전센터         경기도 광명시 사성로 12 (광명동)  031-2610-3510\n",
       "37  광명소방서-소하-119 안전센터        경기도 광명시 금하로 472 (소하동)  031-2610-3500\n",
       "38  송탄소방서-청북-119 안전센터         경기도 평택시 청북면 현곡산단로 16   031-685-8550\n",
       "39  송탄소방서-고덕-119 안전센터          경기도 평택시 고덕면 고덕로 335   031-695-8540"
      ]
     },
     "execution_count": 63,
     "metadata": {},
     "output_type": "execute_result"
    }
   ],
   "source": [
    "df = pd.DataFrame(temp)\n",
    "df.head(40).tail(10)"
   ]
  },
  {
   "cell_type": "code",
   "execution_count": 53,
   "metadata": {},
   "outputs": [],
   "source": [
    "driver.close()"
   ]
  }
 ],
 "metadata": {
  "kernelspec": {
   "display_name": "base",
   "language": "python",
   "name": "python3"
  },
  "language_info": {
   "codemirror_mode": {
    "name": "ipython",
    "version": 3
   },
   "file_extension": ".py",
   "mimetype": "text/x-python",
   "name": "python",
   "nbconvert_exporter": "python",
   "pygments_lexer": "ipython3",
   "version": "3.10.10"
  },
  "orig_nbformat": 4
 },
 "nbformat": 4,
 "nbformat_minor": 2
}
