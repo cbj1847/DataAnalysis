{
 "cells": [
  {
   "attachments": {},
   "cell_type": "markdown",
   "metadata": {},
   "source": [
    "### 지니차트 Top200"
   ]
  },
  {
   "cell_type": "code",
   "execution_count": null,
   "metadata": {},
   "outputs": [],
   "source": [
    "import requests\n",
    "from urllib.parse import quote\n",
    "import pandas as pd\n",
    "from bs4 import BeautifulSoup"
   ]
  },
  {
   "attachments": {},
   "cell_type": "markdown",
   "metadata": {},
   "source": [
    "1. 데이터 가져오기"
   ]
  },
  {
   "cell_type": "code",
   "execution_count": null,
   "metadata": {},
   "outputs": [],
   "source": [
    "url = 'https://www.genie.co.kr/chart/top200'"
   ]
  },
  {
   "cell_type": "code",
   "execution_count": null,
   "metadata": {},
   "outputs": [],
   "source": [
    "# Chrome User-Agent\n",
    "header = {'User-Agent': 'Mozilla/5.0 (Windows NT 10.0; Win64; x64) AppleWebKit/537.36 (KHTML, like Gecko) Chrome/112.0.0.0 Safari/537.36'}\n",
    "result = requests.get(url, headers=header)\n",
    "soup = BeautifulSoup(result.text, 'html.parser')\n",
    "soup"
   ]
  },
  {
   "attachments": {},
   "cell_type": "markdown",
   "metadata": {},
   "source": [
    "##### 2. 원하는 데이터 찾기"
   ]
  },
  {
   "cell_type": "code",
   "execution_count": null,
   "metadata": {},
   "outputs": [],
   "source": [
    "trs = soup.select('tr.list')\n",
    "trs"
   ]
  },
  {
   "attachments": {},
   "cell_type": "markdown",
   "metadata": {},
   "source": [
    "- 가져온 정보에서 rank, img url, title, artist, album 찾기"
   ]
  },
  {
   "cell_type": "code",
   "execution_count": null,
   "metadata": {},
   "outputs": [],
   "source": [
    "tr = trs[0]"
   ]
  },
  {
   "cell_type": "code",
   "execution_count": null,
   "metadata": {},
   "outputs": [],
   "source": [
    "# rank\n",
    "rank = tr.select_one('.number').get_text().split('\\n')[0].strip()       # strip : \\n포함 문자열 양옆 공백 제거\n",
    "rank"
   ]
  },
  {
   "cell_type": "code",
   "execution_count": null,
   "metadata": {},
   "outputs": [],
   "source": [
    "# img url\n",
    "img = tr.select_one('.cover > img')['src']\n",
    "img = f'https:{img}'\n",
    "img"
   ]
  },
  {
   "cell_type": "code",
   "execution_count": null,
   "metadata": {},
   "outputs": [],
   "source": [
    "# title\n",
    "title = tr.select_one('.title.ellipsis').get_text().strip()\n",
    "title\n",
    "\n",
    "# 19금 노래 제목 찾는법 : title = tr.select_one('.title.ellipsis').get_text().split('\\n')[-1].strip()"
   ]
  },
  {
   "cell_type": "code",
   "execution_count": null,
   "metadata": {},
   "outputs": [],
   "source": [
    "# 위의 두 코드를 합치면\n",
    "# 방법1)\n",
    "title = tr.select_one('.title.ellipsis').get_text().split('\\n')[-1].strip()\n",
    "\n",
    "# 방법2)\n",
    "try:\n",
    "    title = tr.select_one('.title.ellipsis').get_text().strip()\n",
    "except:\n",
    "    title = tr.select_one('.title.ellipsis').get_text().split('\\n')[-1].strip()"
   ]
  },
  {
   "cell_type": "code",
   "execution_count": null,
   "metadata": {},
   "outputs": [],
   "source": [
    "# artists\n",
    "artists = tr.select_one('.artist.ellipsis').get_text()\n",
    "artists"
   ]
  },
  {
   "cell_type": "code",
   "execution_count": null,
   "metadata": {},
   "outputs": [],
   "source": [
    "# album\n",
    "album = tr.select_one('.albumtitle.ellipsis').get_text()\n",
    "album"
   ]
  },
  {
   "cell_type": "code",
   "execution_count": null,
   "metadata": {},
   "outputs": [],
   "source": [
    "# 방법1. 반복문으로 딕셔너리의 리스트로 가져오기\n",
    "line = []\n",
    "for tr in trs:\n",
    "    rank = tr.select_one('.number').get_text().split('\\n')[0].strip()       # strip : \\n포함 문자열 양옆 공백 제거\n",
    "    img = tr.select_one('.cover > img')['src']\n",
    "    img = f'https:{img}'\n",
    "    title = tr.select_one('.title.ellipsis').get_text().split('\\n')[-1].strip()\n",
    "    artists = tr.select_one('.artist.ellipsis').get_text()\n",
    "    album = tr.select_one('.albumtitle.ellipsis').get_text()\n",
    "    line.append({'rank':rank, 'img':img, 'title':title, 'artists':artists, 'album':album})\n",
    "df_line = pd.DataFrame(line)\n",
    "df_line.set_index('rank', inplace=True)\n",
    "df_line"
   ]
  },
  {
   "cell_type": "code",
   "execution_count": null,
   "metadata": {},
   "outputs": [],
   "source": [
    "# 방법2. 개별 리스트로 가져오기\n",
    "rank_list, img_list, title_list, artists_list, album_list = [],[],[],[],[]\n",
    "for tr in trs:\n",
    "    rank_list.append(tr.select_one('.number').get_text().split('\\n')[0].strip())       # strip : \\n포함 문자열 양옆 공백 제거\n",
    "    img_list.append(f\"https:{tr.select_one('.cover > img')['src']}\")\n",
    "    title_list.append(tr.select_one('.title.ellipsis').get_text().split('\\n')[-1].strip())\n",
    "    artists_list.append(tr.select_one('.artist.ellipsis').get_text())\n",
    "    album_list.append(tr.select_one('.albumtitle.ellipsis').get_text())\n",
    "\n",
    "# - > DF에 개별리스트 추가"
   ]
  },
  {
   "cell_type": "markdown",
   "metadata": {},
   "source": [
    "#### 6. 모든페이지에 대해 반복하기"
   ]
  },
  {
   "cell_type": "code",
   "execution_count": null,
   "metadata": {},
   "outputs": [],
   "source": [
    "from datetime import datetime\n",
    "now = datetime.now()\n",
    "now"
   ]
  },
  {
   "cell_type": "code",
   "execution_count": null,
   "metadata": {},
   "outputs": [],
   "source": [
    "ymd = now.strftime('%Y%m%d')\n",
    "hh = now.strftime('%H')\n",
    "ymd, hh"
   ]
  },
  {
   "cell_type": "code",
   "execution_count": null,
   "metadata": {},
   "outputs": [],
   "source": [
    "from tqdm import tqdm"
   ]
  },
  {
   "cell_type": "code",
   "execution_count": null,
   "metadata": {},
   "outputs": [],
   "source": [
    "line1 = []\n",
    "for i in tqdm(range(1, 5)):\n",
    "    url = f'https://www.genie.co.kr/chart/top200?ditc=D&ymd={ymd}&hh={hh}&rtm=Y&pg={i}'\n",
    "    header = {'User-Agent': 'Mozilla/5.0 (Windows NT 10.0; Win64; x64) AppleWebKit/537.36 (KHTML, like Gecko) Chrome/112.0.0.0 Safari/537.36'}\n",
    "    result = requests.get(url, headers=header)\n",
    "    soup = BeautifulSoup(result.text, 'html.parser')\n",
    "    trs = soup.select('tr.list')\n",
    "    for tr in trs:\n",
    "        rank = tr.select_one('.number').get_text().split('\\n')[0].strip()       # strip : \\n포함 문자열 양옆 공백 제거\n",
    "        img = tr.select_one('.cover > img')['src']\n",
    "        img = f'https:{img}'\n",
    "        title = tr.select_one('.title.ellipsis').get_text().split('\\n')[-1].strip()\n",
    "        artists = tr.select_one('.artist.ellipsis').get_text()\n",
    "        album = tr.select_one('.albumtitle.ellipsis').get_text()\n",
    "        line1.append({'rank':rank, 'img':img, 'title':title, 'artists':artists, 'album':album})\n",
    "\n",
    "df1 = pd.DataFrame(line1)"
   ]
  },
  {
   "cell_type": "code",
   "execution_count": null,
   "metadata": {},
   "outputs": [],
   "source": [
    "df1.head(60).tail(10)"
   ]
  },
  {
   "cell_type": "code",
   "execution_count": null,
   "metadata": {},
   "outputs": [],
   "source": [
    "df1.to_csv(f'data/{ymd}{hh}_지니차트.csv', index=False)"
   ]
  },
  {
   "cell_type": "code",
   "execution_count": null,
   "metadata": {},
   "outputs": [],
   "source": []
  }
 ],
 "metadata": {
  "kernelspec": {
   "display_name": "base",
   "language": "python",
   "name": "python3"
  },
  "language_info": {
   "codemirror_mode": {
    "name": "ipython",
    "version": 3
   },
   "file_extension": ".py",
   "mimetype": "text/x-python",
   "name": "python",
   "nbconvert_exporter": "python",
   "pygments_lexer": "ipython3",
   "version": "3.10.10"
  },
  "orig_nbformat": 4
 },
 "nbformat": 4,
 "nbformat_minor": 2
}
