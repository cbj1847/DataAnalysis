{
 "cells": [
  {
   "cell_type": "code",
   "execution_count": 1,
   "metadata": {},
   "outputs": [],
   "source": [
    "import pandas as pd\n",
    "import requests\n",
    "from urllib.parse import quote\n",
    "from bs4 import BeautifulSoup"
   ]
  },
  {
   "cell_type": "code",
   "execution_count": 2,
   "metadata": {},
   "outputs": [],
   "source": [
    "url = 'https://youtube-rank.com/board/bbs/board.php?bo_table=youtube&page=4'"
   ]
  },
  {
   "cell_type": "code",
   "execution_count": 3,
   "metadata": {},
   "outputs": [],
   "source": [
    "res = requests.get(url)\n",
    "soup = BeautifulSoup(res.text, 'html.parser')"
   ]
  },
  {
   "cell_type": "code",
   "execution_count": 4,
   "metadata": {},
   "outputs": [
    {
     "data": {
      "text/plain": [
       "100"
      ]
     },
     "execution_count": 4,
     "metadata": {},
     "output_type": "execute_result"
    }
   ],
   "source": [
    "trs = soup.select('form > table > tbody > tr')\n",
    "len(trs)"
   ]
  },
  {
   "cell_type": "code",
   "execution_count": 5,
   "metadata": {},
   "outputs": [],
   "source": [
    "tr = trs[3]"
   ]
  },
  {
   "cell_type": "code",
   "execution_count": 6,
   "metadata": {},
   "outputs": [
    {
     "data": {
      "text/plain": [
       "'304'"
      ]
     },
     "execution_count": 6,
     "metadata": {},
     "output_type": "execute_result"
    }
   ],
   "source": [
    "# 순위\n",
    "rank = tr.select_one('.rank').get_text().strip()\n",
    "rank"
   ]
  },
  {
   "cell_type": "code",
   "execution_count": 7,
   "metadata": {},
   "outputs": [
    {
     "data": {
      "text/plain": [
       "'[음악/댄스/가수]'"
      ]
     },
     "execution_count": 7,
     "metadata": {},
     "output_type": "execute_result"
    }
   ],
   "source": [
    "# 카테고리\n",
    "cat = tr.select_one('.category').get_text().strip()\n",
    "cat"
   ]
  },
  {
   "cell_type": "code",
   "execution_count": 8,
   "metadata": {},
   "outputs": [
    {
     "data": {
      "text/plain": [
       "'ARIRANG K-POP'"
      ]
     },
     "execution_count": 8,
     "metadata": {},
     "output_type": "execute_result"
    }
   ],
   "source": [
    "# 채널\n",
    "channel = tr.select_one('h1 > a').get_text().strip()\n",
    "channel"
   ]
  },
  {
   "cell_type": "code",
   "execution_count": 9,
   "metadata": {},
   "outputs": [
    {
     "data": {
      "text/plain": [
       "1940000"
      ]
     },
     "execution_count": 9,
     "metadata": {},
     "output_type": "execute_result"
    }
   ],
   "source": [
    "# 구독자 \n",
    "sub = tr.select_one('.subscriber_cnt').get_text().strip()\n",
    "sub = int(sub[:-1])*10000\n",
    "sub"
   ]
  },
  {
   "cell_type": "code",
   "execution_count": 10,
   "metadata": {},
   "outputs": [
    {
     "data": {
      "text/plain": [
       "862830000"
      ]
     },
     "execution_count": 10,
     "metadata": {},
     "output_type": "execute_result"
    }
   ],
   "source": [
    "# 조회수 view_cnt\n",
    "view = tr.select_one('.view_cnt').get_text().strip()\n",
    "if '억' in view:\n",
    "    view = int(''.join(view.split('억'))[:-1]) * 10000\n",
    "else:\n",
    "    view = int(view[:-1]) * 10000\n",
    "view"
   ]
  },
  {
   "cell_type": "code",
   "execution_count": 11,
   "metadata": {},
   "outputs": [
    {
     "data": {
      "text/plain": [
       "32051"
      ]
     },
     "execution_count": 11,
     "metadata": {},
     "output_type": "execute_result"
    }
   ],
   "source": [
    "# video \n",
    "video = tr.select_one('.video_cnt').get_text().strip()\n",
    "video = int(video[:-1].replace(',', ''))\n",
    "video"
   ]
  },
  {
   "cell_type": "code",
   "execution_count": 12,
   "metadata": {},
   "outputs": [
    {
     "data": {
      "text/plain": [
       "2260"
      ]
     },
     "execution_count": 12,
     "metadata": {},
     "output_type": "execute_result"
    }
   ],
   "source": [
    "# mini 조회수\n",
    "mini_view = tr.select_one('.hit > strong').get_text().strip()\n",
    "mini_view = int(mini_view.replace(',', ''))\n",
    "mini_view"
   ]
  },
  {
   "cell_type": "code",
   "execution_count": 14,
   "metadata": {},
   "outputs": [
    {
     "ename": "ValueError",
     "evalue": "invalid literal for int() with base 10: ''",
     "output_type": "error",
     "traceback": [
      "\u001b[1;31m---------------------------------------------------------------------------\u001b[0m",
      "\u001b[1;31mValueError\u001b[0m                                Traceback (most recent call last)",
      "Cell \u001b[1;32mIn[14], line 14\u001b[0m\n\u001b[0;32m     12\u001b[0m sub \u001b[39m=\u001b[39m \u001b[39mint\u001b[39m(sub[:\u001b[39m-\u001b[39m\u001b[39m1\u001b[39m])\u001b[39m*\u001b[39m\u001b[39m10000\u001b[39m\n\u001b[0;32m     13\u001b[0m view \u001b[39m=\u001b[39m tr\u001b[39m.\u001b[39mselect_one(\u001b[39m'\u001b[39m\u001b[39m.view_cnt\u001b[39m\u001b[39m'\u001b[39m)\u001b[39m.\u001b[39mget_text()\u001b[39m.\u001b[39mstrip()\n\u001b[1;32m---> 14\u001b[0m view \u001b[39m=\u001b[39m \u001b[39mint\u001b[39;49m(\u001b[39m'\u001b[39;49m\u001b[39m'\u001b[39;49m\u001b[39m.\u001b[39;49mjoin(view\u001b[39m.\u001b[39;49msplit(\u001b[39m'\u001b[39;49m\u001b[39m억\u001b[39;49m\u001b[39m'\u001b[39;49m))[:\u001b[39m-\u001b[39;49m\u001b[39m1\u001b[39;49m]) \u001b[39m*\u001b[39m \u001b[39m10000\u001b[39m\n\u001b[0;32m     15\u001b[0m video \u001b[39m=\u001b[39m tr\u001b[39m.\u001b[39mselect_one(\u001b[39m'\u001b[39m\u001b[39m.video_cnt\u001b[39m\u001b[39m'\u001b[39m)\u001b[39m.\u001b[39mget_text()\u001b[39m.\u001b[39mstrip()\n\u001b[0;32m     16\u001b[0m video \u001b[39m=\u001b[39m \u001b[39mint\u001b[39m(video[:\u001b[39m-\u001b[39m\u001b[39m1\u001b[39m]\u001b[39m.\u001b[39mreplace(\u001b[39m'\u001b[39m\u001b[39m,\u001b[39m\u001b[39m'\u001b[39m,\u001b[39m'\u001b[39m\u001b[39m'\u001b[39m))\n",
      "\u001b[1;31mValueError\u001b[0m: invalid literal for int() with base 10: ''"
     ]
    }
   ],
   "source": [
    "temp = []\n",
    "for i in range(1, 11):\n",
    "    url = f'https://youtube-rank.com/board/bbs/board.php?bo_table=youtube&page={str(i)}'\n",
    "    res = requests.get(url)\n",
    "    soup = BeautifulSoup(res.text, 'html.parser')\n",
    "    trs = soup.select('form > table > tbody > tr')\n",
    "    for tr in trs:\n",
    "        rank = tr.select_one('.rank').get_text().strip()\n",
    "        cat = tr.select_one('.category').get_text().strip()\n",
    "        channel = tr.select_one('h1 > a').get_text().strip()\n",
    "        sub = tr.select_one('.subscriber_cnt').get_text().strip()\n",
    "        sub = int(sub[:-1])*10000\n",
    "        view = tr.select_one('.view_cnt').get_text().strip()\n",
    "        view = int(''.join(view.split('억'))[:-1]) * 10000\n",
    "        video = tr.select_one('.video_cnt').get_text().strip()\n",
    "        video = int(video[:-1].replace(',',''))\n",
    "        mini_view = tr.select_one('.hit > strong').get_text().strip()\n",
    "        mini_view = int(mini_view.replace(',', ''))\n",
    "        temp.append({'rank':rank, 'cat':cat, 'channel':channel, 'sub':sub, 'view':view, 'video':video, 'mini_view':mini_view})\n",
    "temp"
   ]
  },
  {
   "cell_type": "code",
   "execution_count": null,
   "metadata": {},
   "outputs": [
    {
     "data": {
      "text/html": [
       "<div>\n",
       "<style scoped>\n",
       "    .dataframe tbody tr th:only-of-type {\n",
       "        vertical-align: middle;\n",
       "    }\n",
       "\n",
       "    .dataframe tbody tr th {\n",
       "        vertical-align: top;\n",
       "    }\n",
       "\n",
       "    .dataframe thead th {\n",
       "        text-align: right;\n",
       "    }\n",
       "</style>\n",
       "<table border=\"1\" class=\"dataframe\">\n",
       "  <thead>\n",
       "    <tr style=\"text-align: right;\">\n",
       "      <th></th>\n",
       "      <th>rank</th>\n",
       "      <th>cat</th>\n",
       "      <th>channel</th>\n",
       "      <th>sub</th>\n",
       "      <th>view</th>\n",
       "      <th>video</th>\n",
       "      <th>mini_view</th>\n",
       "    </tr>\n",
       "  </thead>\n",
       "  <tbody>\n",
       "    <tr>\n",
       "      <th>0</th>\n",
       "      <td>1</td>\n",
       "      <td>[음악/댄스/가수]</td>\n",
       "      <td>BLACKPINK</td>\n",
       "      <td>87300000</td>\n",
       "      <td>3053350305335030533503053350305335030533503053...</td>\n",
       "      <td>507</td>\n",
       "      <td>26100</td>\n",
       "    </tr>\n",
       "    <tr>\n",
       "      <th>1</th>\n",
       "      <td>2</td>\n",
       "      <td>[음악/댄스/가수]</td>\n",
       "      <td>BANGTANTV</td>\n",
       "      <td>74500000</td>\n",
       "      <td>2014300201430020143002014300201430020143002014...</td>\n",
       "      <td>2188</td>\n",
       "      <td>10904</td>\n",
       "    </tr>\n",
       "    <tr>\n",
       "      <th>2</th>\n",
       "      <td>3</td>\n",
       "      <td>[음악/댄스/가수]</td>\n",
       "      <td>HYBE LABELS</td>\n",
       "      <td>70300000</td>\n",
       "      <td>2732316273231627323162732316273231627323162732...</td>\n",
       "      <td>1158</td>\n",
       "      <td>13018</td>\n",
       "    </tr>\n",
       "    <tr>\n",
       "      <th>3</th>\n",
       "      <td>4</td>\n",
       "      <td>[음악/댄스/가수]</td>\n",
       "      <td>SMTOWN</td>\n",
       "      <td>31600000</td>\n",
       "      <td>2679481267948126794812679481267948126794812679...</td>\n",
       "      <td>4110</td>\n",
       "      <td>7801</td>\n",
       "    </tr>\n",
       "    <tr>\n",
       "      <th>4</th>\n",
       "      <td>5</td>\n",
       "      <td>[음악/댄스/가수]</td>\n",
       "      <td>JYP Entertainment</td>\n",
       "      <td>26800000</td>\n",
       "      <td>1927507192750719275071927507192750719275071927...</td>\n",
       "      <td>1668</td>\n",
       "      <td>6941</td>\n",
       "    </tr>\n",
       "    <tr>\n",
       "      <th>...</th>\n",
       "      <td>...</td>\n",
       "      <td>...</td>\n",
       "      <td>...</td>\n",
       "      <td>...</td>\n",
       "      <td>...</td>\n",
       "      <td>...</td>\n",
       "      <td>...</td>\n",
       "    </tr>\n",
       "    <tr>\n",
       "      <th>995</th>\n",
       "      <td>991</td>\n",
       "      <td>[회사/오피셜]</td>\n",
       "      <td>LG Uplus</td>\n",
       "      <td>730000</td>\n",
       "      <td>1379981379981379981379981379981379981379981379...</td>\n",
       "      <td>2473</td>\n",
       "      <td>2384</td>\n",
       "    </tr>\n",
       "    <tr>\n",
       "      <th>996</th>\n",
       "      <td>998</td>\n",
       "      <td>[BJ/인물/연예인]</td>\n",
       "      <td>케이</td>\n",
       "      <td>730000</td>\n",
       "      <td>5726757267572675726757267572675726757267572675...</td>\n",
       "      <td>3304</td>\n",
       "      <td>2374</td>\n",
       "    </tr>\n",
       "    <tr>\n",
       "      <th>997</th>\n",
       "      <td>1001</td>\n",
       "      <td>[미분류]</td>\n",
       "      <td>백크 Baekk</td>\n",
       "      <td>720000</td>\n",
       "      <td>4573245732457324573245732457324573245732457324...</td>\n",
       "      <td>1106</td>\n",
       "      <td>105</td>\n",
       "    </tr>\n",
       "    <tr>\n",
       "      <th>998</th>\n",
       "      <td>999</td>\n",
       "      <td>[음악/댄스/가수]</td>\n",
       "      <td>Crush</td>\n",
       "      <td>720000</td>\n",
       "      <td>3954639546395463954639546395463954639546395463...</td>\n",
       "      <td>131</td>\n",
       "      <td>798</td>\n",
       "    </tr>\n",
       "    <tr>\n",
       "      <th>999</th>\n",
       "      <td>997</td>\n",
       "      <td>[BJ/인물/연예인]</td>\n",
       "      <td>bobaepapa - 보배아빠</td>\n",
       "      <td>720000</td>\n",
       "      <td>3484434844348443484434844348443484434844348443...</td>\n",
       "      <td>393</td>\n",
       "      <td>2546</td>\n",
       "    </tr>\n",
       "  </tbody>\n",
       "</table>\n",
       "<p>1000 rows × 7 columns</p>\n",
       "</div>"
      ],
      "text/plain": [
       "     rank          cat            channel       sub  \\\n",
       "0       1   [음악/댄스/가수]          BLACKPINK  87300000   \n",
       "1       2   [음악/댄스/가수]          BANGTANTV  74500000   \n",
       "2       3   [음악/댄스/가수]        HYBE LABELS  70300000   \n",
       "3       4   [음악/댄스/가수]             SMTOWN  31600000   \n",
       "4       5   [음악/댄스/가수]  JYP Entertainment  26800000   \n",
       "..    ...          ...                ...       ...   \n",
       "995   991     [회사/오피셜]           LG Uplus    730000   \n",
       "996   998  [BJ/인물/연예인]                 케이    730000   \n",
       "997  1001        [미분류]           백크 Baekk    720000   \n",
       "998   999   [음악/댄스/가수]              Crush    720000   \n",
       "999   997  [BJ/인물/연예인]   bobaepapa - 보배아빠    720000   \n",
       "\n",
       "                                                  view  video  mini_view  \n",
       "0    3053350305335030533503053350305335030533503053...    507      26100  \n",
       "1    2014300201430020143002014300201430020143002014...   2188      10904  \n",
       "2    2732316273231627323162732316273231627323162732...   1158      13018  \n",
       "3    2679481267948126794812679481267948126794812679...   4110       7801  \n",
       "4    1927507192750719275071927507192750719275071927...   1668       6941  \n",
       "..                                                 ...    ...        ...  \n",
       "995  1379981379981379981379981379981379981379981379...   2473       2384  \n",
       "996  5726757267572675726757267572675726757267572675...   3304       2374  \n",
       "997  4573245732457324573245732457324573245732457324...   1106        105  \n",
       "998  3954639546395463954639546395463954639546395463...    131        798  \n",
       "999  3484434844348443484434844348443484434844348443...    393       2546  \n",
       "\n",
       "[1000 rows x 7 columns]"
      ]
     },
     "execution_count": 183,
     "metadata": {},
     "output_type": "execute_result"
    }
   ],
   "source": [
    "df = pd.DataFrame(temp)\n",
    "df"
   ]
  },
  {
   "cell_type": "code",
   "execution_count": null,
   "metadata": {},
   "outputs": [],
   "source": [
    "from selenium import webdriver\n",
    "import time\n",
    "from selenium.webdriver.common.keys import Keys\n",
    "from selenium.webdriver.common.by import By\n",
    "import warnings\n",
    "warnings.filterwarnings('ignore')\n",
    "\n",
    "driver = webdriver.Chrome('C:/Users/YONSAI/Desktop/chromedriver_win32/chromedriver.exe')\n",
    "driver.get(url)"
   ]
  },
  {
   "cell_type": "code",
   "execution_count": null,
   "metadata": {},
   "outputs": [
    {
     "data": {
      "text/plain": [
       "100"
      ]
     },
     "execution_count": 156,
     "metadata": {},
     "output_type": "execute_result"
    }
   ],
   "source": [
    "soup = BeautifulSoup(driver.page_source, 'html.parser')\n",
    "trs = soup.select('.aos-init')\n",
    "len(trs)"
   ]
  },
  {
   "cell_type": "code",
   "execution_count": null,
   "metadata": {},
   "outputs": [],
   "source": [
    "tr = trs[0]"
   ]
  },
  {
   "cell_type": "code",
   "execution_count": null,
   "metadata": {},
   "outputs": [
    {
     "data": {
      "text/plain": [
       "'1'"
      ]
     },
     "execution_count": 158,
     "metadata": {},
     "output_type": "execute_result"
    }
   ],
   "source": [
    "# 순위\n",
    "rank = tr.select_one('.rank').get_text().strip()\n",
    "rank"
   ]
  },
  {
   "cell_type": "code",
   "execution_count": null,
   "metadata": {},
   "outputs": [
    {
     "data": {
      "text/plain": [
       "'음악/댄스/가수'"
      ]
     },
     "execution_count": 159,
     "metadata": {},
     "output_type": "execute_result"
    }
   ],
   "source": [
    "# 카테고리\n",
    "cat = tr.select_one('.category').get_text().strip()\n",
    "cat = cat[1:-1]\n",
    "cat"
   ]
  },
  {
   "cell_type": "code",
   "execution_count": null,
   "metadata": {},
   "outputs": [
    {
     "data": {
      "text/plain": [
       "'BLACKPINK'"
      ]
     },
     "execution_count": 160,
     "metadata": {},
     "output_type": "execute_result"
    }
   ],
   "source": [
    "# 채널\n",
    "channel = tr.select_one('h1 > a').get_text().strip()\n",
    "channel"
   ]
  },
  {
   "cell_type": "code",
   "execution_count": null,
   "metadata": {},
   "outputs": [
    {
     "data": {
      "text/plain": [
       "87300000"
      ]
     },
     "execution_count": 161,
     "metadata": {},
     "output_type": "execute_result"
    }
   ],
   "source": [
    "# 구독자 \n",
    "sub = tr.select_one('.subscriber_cnt').get_text().strip()\n",
    "sub = int(sub[:-1])*10000\n",
    "sub"
   ]
  },
  {
   "cell_type": "code",
   "execution_count": null,
   "metadata": {},
   "outputs": [
    {
     "data": {
      "text/plain": [
       "30533500000"
      ]
     },
     "execution_count": 162,
     "metadata": {},
     "output_type": "execute_result"
    }
   ],
   "source": [
    "# 조회수 view_cnt\n",
    "view = tr.select_one('.view_cnt').get_text().strip()\n",
    "if '억' in view:\n",
    "    view = int(''.join(view.split('억'))[:-1]) * 10000\n",
    "else:\n",
    "    view = int(view[:-1]) * 10000\n",
    "view"
   ]
  },
  {
   "cell_type": "code",
   "execution_count": null,
   "metadata": {},
   "outputs": [
    {
     "data": {
      "text/plain": [
       "507"
      ]
     },
     "execution_count": 163,
     "metadata": {},
     "output_type": "execute_result"
    }
   ],
   "source": [
    "# video \n",
    "video = tr.select_one('.video_cnt').get_text().strip()\n",
    "video = int(video[:-1])\n",
    "video"
   ]
  },
  {
   "cell_type": "code",
   "execution_count": null,
   "metadata": {},
   "outputs": [
    {
     "data": {
      "text/plain": [
       "26100"
      ]
     },
     "execution_count": 164,
     "metadata": {},
     "output_type": "execute_result"
    }
   ],
   "source": [
    "# mini 조회수\n",
    "mini_view = tr.select_one('.hit > strong').get_text().strip()\n",
    "mini_view = int(mini_view.replace(',', ''))\n",
    "mini_view"
   ]
  },
  {
   "cell_type": "code",
   "execution_count": null,
   "metadata": {},
   "outputs": [],
   "source": [
    "url = 'https://youtube-rank.com/board/bbs/board.php?bo_table=youtube&page=1'"
   ]
  },
  {
   "cell_type": "code",
   "execution_count": null,
   "metadata": {},
   "outputs": [],
   "source": [
    "for page in range(1, 11):\n",
    "    "
   ]
  }
 ],
 "metadata": {
  "kernelspec": {
   "display_name": "base",
   "language": "python",
   "name": "python3"
  },
  "language_info": {
   "codemirror_mode": {
    "name": "ipython",
    "version": 3
   },
   "file_extension": ".py",
   "mimetype": "text/x-python",
   "name": "python",
   "nbconvert_exporter": "python",
   "pygments_lexer": "ipython3",
   "version": "3.10.10"
  },
  "orig_nbformat": 4
 },
 "nbformat": 4,
 "nbformat_minor": 2
}
